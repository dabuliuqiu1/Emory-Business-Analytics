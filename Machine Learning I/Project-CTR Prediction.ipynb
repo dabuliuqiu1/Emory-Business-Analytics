{
 "cells": [
  {
   "cell_type": "code",
   "execution_count": null,
   "metadata": {
    "id": "P4j3T4g-dqdH",
    "outputId": "df37afba-69a9-4e3c-e923-a4b48f79356f"
   },
   "outputs": [
    {
     "name": "stdout",
     "output_type": "stream",
     "text": [
      "Collecting tensorflow\n",
      "  Downloading tensorflow-2.7.0-cp38-cp38-win_amd64.whl (430.8 MB)\n",
      "Requirement already satisfied: six>=1.12.0 in c:\\users\\lenovo\\anaconda3\\lib\\site-packages (from tensorflow) (1.15.0)\n",
      "Requirement already satisfied: tensorflow-estimator<2.8,~=2.7.0rc0 in c:\\users\\lenovo\\anaconda3\\lib\\site-packages (from tensorflow) (2.7.0)\n",
      "Requirement already satisfied: astunparse>=1.6.0 in c:\\users\\lenovo\\anaconda3\\lib\\site-packages (from tensorflow) (1.6.3)\n",
      "Requirement already satisfied: keras<2.8,>=2.7.0rc0 in c:\\users\\lenovo\\anaconda3\\lib\\site-packages (from tensorflow) (2.7.0)\n",
      "Requirement already satisfied: absl-py>=0.4.0 in c:\\users\\lenovo\\anaconda3\\lib\\site-packages (from tensorflow) (1.0.0)\n",
      "Requirement already satisfied: google-pasta>=0.1.1 in c:\\users\\lenovo\\anaconda3\\lib\\site-packages (from tensorflow) (0.2.0)\n",
      "Requirement already satisfied: tensorboard~=2.6 in c:\\users\\lenovo\\anaconda3\\lib\\site-packages (from tensorflow) (2.7.0)\n",
      "Requirement already satisfied: termcolor>=1.1.0 in c:\\users\\lenovo\\anaconda3\\lib\\site-packages (from tensorflow) (1.1.0)\n",
      "Requirement already satisfied: numpy>=1.14.5 in c:\\users\\lenovo\\anaconda3\\lib\\site-packages (from tensorflow) (1.21.3)\n",
      "Requirement already satisfied: opt-einsum>=2.3.2 in c:\\users\\lenovo\\anaconda3\\lib\\site-packages (from tensorflow) (3.3.0)\n",
      "Requirement already satisfied: tensorflow-io-gcs-filesystem>=0.21.0 in c:\\users\\lenovo\\anaconda3\\lib\\site-packages (from tensorflow) (0.22.0)\n",
      "Requirement already satisfied: wheel<1.0,>=0.32.0 in c:\\users\\lenovo\\anaconda3\\lib\\site-packages (from tensorflow) (0.36.2)\n",
      "Requirement already satisfied: libclang>=9.0.1 in c:\\users\\lenovo\\anaconda3\\lib\\site-packages (from tensorflow) (12.0.0)\n",
      "Requirement already satisfied: flatbuffers<3.0,>=1.12 in c:\\users\\lenovo\\anaconda3\\lib\\site-packages (from tensorflow) (2.0)\n",
      "Requirement already satisfied: grpcio<2.0,>=1.24.3 in c:\\users\\lenovo\\anaconda3\\lib\\site-packages (from tensorflow) (1.41.1)\n",
      "Requirement already satisfied: keras-preprocessing>=1.1.1 in c:\\users\\lenovo\\anaconda3\\lib\\site-packages (from tensorflow) (1.1.2)\n",
      "Requirement already satisfied: gast<0.5.0,>=0.2.1 in c:\\users\\lenovo\\anaconda3\\lib\\site-packages (from tensorflow) (0.4.0)\n",
      "Requirement already satisfied: protobuf>=3.9.2 in c:\\users\\lenovo\\anaconda3\\lib\\site-packages (from tensorflow) (3.19.1)\n",
      "Requirement already satisfied: typing-extensions>=3.6.6 in c:\\users\\lenovo\\anaconda3\\lib\\site-packages (from tensorflow) (3.7.4.3)\n",
      "Requirement already satisfied: h5py>=2.9.0 in c:\\users\\lenovo\\anaconda3\\lib\\site-packages (from tensorflow) (2.10.0)\n",
      "Requirement already satisfied: wrapt>=1.11.0 in c:\\users\\lenovo\\anaconda3\\lib\\site-packages (from tensorflow) (1.12.1)\n",
      "Requirement already satisfied: requests<3,>=2.21.0 in c:\\users\\lenovo\\anaconda3\\lib\\site-packages (from tensorboard~=2.6->tensorflow) (2.25.1)\n",
      "Requirement already satisfied: google-auth-oauthlib<0.5,>=0.4.1 in c:\\users\\lenovo\\anaconda3\\lib\\site-packages (from tensorboard~=2.6->tensorflow) (0.4.6)\n",
      "Requirement already satisfied: google-auth<3,>=1.6.3 in c:\\users\\lenovo\\anaconda3\\lib\\site-packages (from tensorboard~=2.6->tensorflow) (2.3.3)\n",
      "Requirement already satisfied: setuptools>=41.0.0 in c:\\users\\lenovo\\anaconda3\\lib\\site-packages (from tensorboard~=2.6->tensorflow) (52.0.0.post20210125)\n",
      "Requirement already satisfied: tensorboard-plugin-wit>=1.6.0 in c:\\users\\lenovo\\anaconda3\\lib\\site-packages (from tensorboard~=2.6->tensorflow) (1.8.0)\n",
      "Requirement already satisfied: markdown>=2.6.8 in c:\\users\\lenovo\\anaconda3\\lib\\site-packages (from tensorboard~=2.6->tensorflow) (3.3.5)\n",
      "Requirement already satisfied: tensorboard-data-server<0.7.0,>=0.6.0 in c:\\users\\lenovo\\anaconda3\\lib\\site-packages (from tensorboard~=2.6->tensorflow) (0.6.1)\n",
      "Requirement already satisfied: werkzeug>=0.11.15 in c:\\users\\lenovo\\anaconda3\\lib\\site-packages (from tensorboard~=2.6->tensorflow) (1.0.1)\n",
      "Requirement already satisfied: cachetools<5.0,>=2.0.0 in c:\\users\\lenovo\\anaconda3\\lib\\site-packages (from google-auth<3,>=1.6.3->tensorboard~=2.6->tensorflow) (4.2.4)\n",
      "Requirement already satisfied: pyasn1-modules>=0.2.1 in c:\\users\\lenovo\\anaconda3\\lib\\site-packages (from google-auth<3,>=1.6.3->tensorboard~=2.6->tensorflow) (0.2.8)\n",
      "Requirement already satisfied: rsa<5,>=3.1.4 in c:\\users\\lenovo\\anaconda3\\lib\\site-packages (from google-auth<3,>=1.6.3->tensorboard~=2.6->tensorflow) (4.7.2)\n",
      "Requirement already satisfied: requests-oauthlib>=0.7.0 in c:\\users\\lenovo\\anaconda3\\lib\\site-packages (from google-auth-oauthlib<0.5,>=0.4.1->tensorboard~=2.6->tensorflow) (1.3.0)\n",
      "Requirement already satisfied: importlib-metadata>='4.4' in c:\\users\\lenovo\\anaconda3\\lib\\site-packages (from markdown>=2.6.8->tensorboard~=2.6->tensorflow) (3.10.0)\n",
      "Requirement already satisfied: zipp>=0.5 in c:\\users\\lenovo\\anaconda3\\lib\\site-packages (from importlib-metadata>='4.4'->markdown>=2.6.8->tensorboard~=2.6->tensorflow) (3.4.1)\n",
      "Requirement already satisfied: pyasn1<0.5.0,>=0.4.6 in c:\\users\\lenovo\\anaconda3\\lib\\site-packages (from pyasn1-modules>=0.2.1->google-auth<3,>=1.6.3->tensorboard~=2.6->tensorflow) (0.4.8)\n",
      "Requirement already satisfied: idna<3,>=2.5 in c:\\users\\lenovo\\anaconda3\\lib\\site-packages (from requests<3,>=2.21.0->tensorboard~=2.6->tensorflow) (2.10)\n",
      "Requirement already satisfied: certifi>=2017.4.17 in c:\\users\\lenovo\\anaconda3\\lib\\site-packages (from requests<3,>=2.21.0->tensorboard~=2.6->tensorflow) (2021.10.8)\n",
      "Requirement already satisfied: chardet<5,>=3.0.2 in c:\\users\\lenovo\\anaconda3\\lib\\site-packages (from requests<3,>=2.21.0->tensorboard~=2.6->tensorflow) (4.0.0)\n",
      "Requirement already satisfied: urllib3<1.27,>=1.21.1 in c:\\users\\lenovo\\anaconda3\\lib\\site-packages (from requests<3,>=2.21.0->tensorboard~=2.6->tensorflow) (1.26.6)\n",
      "Requirement already satisfied: oauthlib>=3.0.0 in c:\\users\\lenovo\\anaconda3\\lib\\site-packages (from requests-oauthlib>=0.7.0->google-auth-oauthlib<0.5,>=0.4.1->tensorboard~=2.6->tensorflow) (3.1.1)\n",
      "Installing collected packages: tensorflow\n"
     ]
    },
    {
     "name": "stderr",
     "output_type": "stream",
     "text": [
      "ERROR: Could not install packages due to an OSError: [WinError 5] \\u62d2\\u7edd\\u8bbf\\u95ee\\u3002: 'C:\\\\Users\\\\lenovo\\\\anaconda3\\\\Lib\\\\site-packages\\\\tensorflow\\\\lite\\\\experimental\\\\microfrontend\\\\python\\\\ops\\\\_audio_microfrontend_op.so'\n",
      "Consider using the `--user` option or check the permissions.\n",
      "\n"
     ]
    },
    {
     "name": "stdout",
     "output_type": "stream",
     "text": [
      "Requirement already satisfied: keras in c:\\users\\lenovo\\anaconda3\\lib\\site-packages (2.7.0)\n",
      "Collecting keras_tuner\n",
      "  Downloading keras_tuner-1.1.0-py3-none-any.whl (98 kB)\n",
      "Requirement already satisfied: tensorboard in c:\\users\\lenovo\\anaconda3\\lib\\site-packages (from keras_tuner) (2.7.0)\n",
      "Requirement already satisfied: scipy in c:\\users\\lenovo\\anaconda3\\lib\\site-packages (from keras_tuner) (1.6.2)\n",
      "Collecting kt-legacy\n",
      "  Downloading kt_legacy-1.0.4-py3-none-any.whl (9.6 kB)\n",
      "Requirement already satisfied: requests in c:\\users\\lenovo\\anaconda3\\lib\\site-packages (from keras_tuner) (2.25.1)\n",
      "Requirement already satisfied: packaging in c:\\users\\lenovo\\anaconda3\\lib\\site-packages (from keras_tuner) (20.9)\n",
      "Requirement already satisfied: ipython in c:\\users\\lenovo\\anaconda3\\lib\\site-packages (from keras_tuner) (7.22.0)\n",
      "Requirement already satisfied: numpy in c:\\users\\lenovo\\anaconda3\\lib\\site-packages (from keras_tuner) (1.21.3)\n",
      "Requirement already satisfied: setuptools>=18.5 in c:\\users\\lenovo\\anaconda3\\lib\\site-packages (from ipython->keras_tuner) (52.0.0.post20210125)\n",
      "Requirement already satisfied: colorama in c:\\users\\lenovo\\anaconda3\\lib\\site-packages (from ipython->keras_tuner) (0.4.4)\n",
      "Requirement already satisfied: decorator in c:\\users\\lenovo\\anaconda3\\lib\\site-packages (from ipython->keras_tuner) (5.0.6)\n",
      "Requirement already satisfied: prompt-toolkit!=3.0.0,!=3.0.1,<3.1.0,>=2.0.0 in c:\\users\\lenovo\\anaconda3\\lib\\site-packages (from ipython->keras_tuner) (3.0.17)\n",
      "Requirement already satisfied: pickleshare in c:\\users\\lenovo\\anaconda3\\lib\\site-packages (from ipython->keras_tuner) (0.7.5)\n",
      "Requirement already satisfied: backcall in c:\\users\\lenovo\\anaconda3\\lib\\site-packages (from ipython->keras_tuner) (0.2.0)\n",
      "Requirement already satisfied: traitlets>=4.2 in c:\\users\\lenovo\\anaconda3\\lib\\site-packages (from ipython->keras_tuner) (5.0.5)\n",
      "Requirement already satisfied: pygments in c:\\users\\lenovo\\anaconda3\\lib\\site-packages (from ipython->keras_tuner) (2.8.1)\n",
      "Requirement already satisfied: jedi>=0.16 in c:\\users\\lenovo\\anaconda3\\lib\\site-packages (from ipython->keras_tuner) (0.17.2)\n",
      "Requirement already satisfied: parso<0.8.0,>=0.7.0 in c:\\users\\lenovo\\anaconda3\\lib\\site-packages (from jedi>=0.16->ipython->keras_tuner) (0.7.0)\n",
      "Requirement already satisfied: wcwidth in c:\\users\\lenovo\\anaconda3\\lib\\site-packages (from prompt-toolkit!=3.0.0,!=3.0.1,<3.1.0,>=2.0.0->ipython->keras_tuner) (0.2.5)\n",
      "Requirement already satisfied: ipython-genutils in c:\\users\\lenovo\\anaconda3\\lib\\site-packages (from traitlets>=4.2->ipython->keras_tuner) (0.2.0)\n",
      "Requirement already satisfied: pyparsing>=2.0.2 in c:\\users\\lenovo\\anaconda3\\lib\\site-packages (from packaging->keras_tuner) (2.4.7)\n",
      "Requirement already satisfied: chardet<5,>=3.0.2 in c:\\users\\lenovo\\anaconda3\\lib\\site-packages (from requests->keras_tuner) (4.0.0)\n",
      "Requirement already satisfied: urllib3<1.27,>=1.21.1 in c:\\users\\lenovo\\anaconda3\\lib\\site-packages (from requests->keras_tuner) (1.26.6)\n",
      "Requirement already satisfied: idna<3,>=2.5 in c:\\users\\lenovo\\anaconda3\\lib\\site-packages (from requests->keras_tuner) (2.10)\n",
      "Requirement already satisfied: certifi>=2017.4.17 in c:\\users\\lenovo\\anaconda3\\lib\\site-packages (from requests->keras_tuner) (2021.10.8)\n",
      "Requirement already satisfied: markdown>=2.6.8 in c:\\users\\lenovo\\anaconda3\\lib\\site-packages (from tensorboard->keras_tuner) (3.3.5)\n",
      "Requirement already satisfied: absl-py>=0.4 in c:\\users\\lenovo\\anaconda3\\lib\\site-packages (from tensorboard->keras_tuner) (1.0.0)\n",
      "Requirement already satisfied: google-auth-oauthlib<0.5,>=0.4.1 in c:\\users\\lenovo\\anaconda3\\lib\\site-packages (from tensorboard->keras_tuner) (0.4.6)\n",
      "Requirement already satisfied: tensorboard-data-server<0.7.0,>=0.6.0 in c:\\users\\lenovo\\anaconda3\\lib\\site-packages (from tensorboard->keras_tuner) (0.6.1)\n",
      "Requirement already satisfied: grpcio>=1.24.3 in c:\\users\\lenovo\\anaconda3\\lib\\site-packages (from tensorboard->keras_tuner) (1.41.1)\n",
      "Requirement already satisfied: protobuf>=3.6.0 in c:\\users\\lenovo\\anaconda3\\lib\\site-packages (from tensorboard->keras_tuner) (3.19.1)\n",
      "Requirement already satisfied: wheel>=0.26 in c:\\users\\lenovo\\anaconda3\\lib\\site-packages (from tensorboard->keras_tuner) (0.36.2)\n",
      "Requirement already satisfied: google-auth<3,>=1.6.3 in c:\\users\\lenovo\\anaconda3\\lib\\site-packages (from tensorboard->keras_tuner) (2.3.3)\n",
      "Requirement already satisfied: tensorboard-plugin-wit>=1.6.0 in c:\\users\\lenovo\\anaconda3\\lib\\site-packages (from tensorboard->keras_tuner) (1.8.0)\n",
      "Requirement already satisfied: werkzeug>=0.11.15 in c:\\users\\lenovo\\anaconda3\\lib\\site-packages (from tensorboard->keras_tuner) (1.0.1)\n",
      "Requirement already satisfied: six in c:\\users\\lenovo\\anaconda3\\lib\\site-packages (from absl-py>=0.4->tensorboard->keras_tuner) (1.15.0)\n",
      "Requirement already satisfied: rsa<5,>=3.1.4 in c:\\users\\lenovo\\anaconda3\\lib\\site-packages (from google-auth<3,>=1.6.3->tensorboard->keras_tuner) (4.7.2)\n",
      "Requirement already satisfied: pyasn1-modules>=0.2.1 in c:\\users\\lenovo\\anaconda3\\lib\\site-packages (from google-auth<3,>=1.6.3->tensorboard->keras_tuner) (0.2.8)\n",
      "Requirement already satisfied: cachetools<5.0,>=2.0.0 in c:\\users\\lenovo\\anaconda3\\lib\\site-packages (from google-auth<3,>=1.6.3->tensorboard->keras_tuner) (4.2.4)\n",
      "Requirement already satisfied: requests-oauthlib>=0.7.0 in c:\\users\\lenovo\\anaconda3\\lib\\site-packages (from google-auth-oauthlib<0.5,>=0.4.1->tensorboard->keras_tuner) (1.3.0)\n",
      "Requirement already satisfied: importlib-metadata>='4.4' in c:\\users\\lenovo\\anaconda3\\lib\\site-packages (from markdown>=2.6.8->tensorboard->keras_tuner) (3.10.0)\n",
      "Requirement already satisfied: zipp>=0.5 in c:\\users\\lenovo\\anaconda3\\lib\\site-packages (from importlib-metadata>='4.4'->markdown>=2.6.8->tensorboard->keras_tuner) (3.4.1)\n",
      "Requirement already satisfied: pyasn1<0.5.0,>=0.4.6 in c:\\users\\lenovo\\anaconda3\\lib\\site-packages (from pyasn1-modules>=0.2.1->google-auth<3,>=1.6.3->tensorboard->keras_tuner) (0.4.8)\n",
      "Requirement already satisfied: oauthlib>=3.0.0 in c:\\users\\lenovo\\anaconda3\\lib\\site-packages (from requests-oauthlib>=0.7.0->google-auth-oauthlib<0.5,>=0.4.1->tensorboard->keras_tuner) (3.1.1)\n",
      "Installing collected packages: kt-legacy, keras-tuner\n",
      "Successfully installed keras-tuner-1.1.0 kt-legacy-1.0.4\n"
     ]
    }
   ],
   "source": [
    "!pip install tensorflow\n",
    "!pip install keras\n",
    "!pip install keras_tuner"
   ]
  },
  {
   "cell_type": "code",
   "execution_count": null,
   "metadata": {
    "id": "ccLPtW4AKhGi"
   },
   "outputs": [],
   "source": [
    "import pandas as pd\n",
    "import math\n",
    "from datetime import datetime\n",
    "import numpy as np\n",
    "from keras.models import Model\n",
    "from keras.layers import Dense, Activation, Dropout, BatchNormalization, Embedding, Flatten, Input, concatenate\n",
    "from keras_tuner import BayesianOptimization, RandomSearch\n",
    "from sklearn.preprocessing import MinMaxScaler, StandardScaler, LabelEncoder\n",
    "import matplotlib.pyplot as plt\n",
    "from sklearn.metrics import mean_absolute_error\n",
    "import tensorflow.keras.backend as K\n",
    "import sklearn\n",
    "from tensorflow.keras.optimizers import SGD, Adam, RMSprop\n",
    "from keras.callbacks import EarlyStopping\n",
    "from sklearn.metrics import log_loss\n",
    "from tensorflow.keras import regularizers\n",
    "from sklearn.model_selection import train_test_split\n",
    "from tensorflow.keras import initializers\n",
    "import warnings\n",
    "warnings.filterwarnings(\"ignore\")"
   ]
  },
  {
   "cell_type": "markdown",
   "metadata": {
    "id": "7qd0Z1PqKkYO"
   },
   "source": [
    "#  1. Data Preprocessing"
   ]
  },
  {
   "cell_type": "code",
   "execution_count": null,
   "metadata": {
    "id": "OK6VMyNqKkak"
   },
   "outputs": [],
   "source": [
    "data = pd.read_csv(r'C:\\Users\\zhua273\\Desktop\\Project Data\\ProjectTrainingData.csv')\n",
    "# data = pd.read_csv(r'C:\\Users\\HSUN93\\Desktop\\Project Data\\ProjectTrainingData.csv')"
   ]
  },
  {
   "cell_type": "code",
   "execution_count": null,
   "metadata": {
    "id": "sXYlrGWldqdP"
   },
   "outputs": [],
   "source": [
    "# feature engineering\n",
    "data = data.drop(['id'],axis=1)\n",
    "data['hh'] = data['hour'].mod(100)\n",
    "data['dd'] = (data['hour']-data['hh']-14100000)/100"
   ]
  },
  {
   "cell_type": "code",
   "execution_count": null,
   "metadata": {},
   "outputs": [],
   "source": [
    "train.groupby('hh')['click'].mean().plot()"
   ]
  },
  {
   "cell_type": "code",
   "execution_count": null,
   "metadata": {},
   "outputs": [],
   "source": [
    "train.groupby('dd')['click'].mean().plot()"
   ]
  },
  {
   "cell_type": "code",
   "execution_count": null,
   "metadata": {},
   "outputs": [],
   "source": [
    "train.groupby('hour')['click'].mean().plot(figsize=(20, 3))"
   ]
  },
  {
   "cell_type": "code",
   "execution_count": null,
   "metadata": {},
   "outputs": [],
   "source": [
    "# all of the above picture show that these new features are meaningful,\n",
    "# as the mean click varies across groups"
   ]
  },
  {
   "cell_type": "code",
   "execution_count": null,
   "metadata": {
    "id": "AFHJvBCnW4qw"
   },
   "outputs": [],
   "source": [
    "def prepare_data(data):\n",
    "    \n",
    "    y = data.loc[:,'click']\n",
    "    X = data.drop(['click'], axis = 1)\n",
    "    mappings = {}\n",
    "    \n",
    "    for x in range(0, X.shape[1]):\n",
    "        sorted_indices = X.iloc[:,x].value_counts().index\n",
    "        mappings[\"mappings_{0}\".format(x)] = dict(zip(sorted_indices, range(1, len(sorted_indices)+1)))\n",
    "        X.iloc[:,x] = X.iloc[:,x].map(mappings[\"mappings_{0}\".format(x)])\n",
    "        \n",
    "    return X, y, mappings"
   ]
  },
  {
   "cell_type": "code",
   "execution_count": null,
   "metadata": {
    "id": "9nFirKnPdqdT"
   },
   "outputs": [],
   "source": [
    "# ordinal map the X data with frequency rank\n",
    "X, y, mappings = prepare_data(data)"
   ]
  },
  {
   "cell_type": "code",
   "execution_count": null,
   "metadata": {
    "id": "94EfrViuD3G5"
   },
   "outputs": [],
   "source": [
    "# write file for later use\n",
    "X.to_csv(\"C:/Users/zhua273/Desktop/Project Data/X.csv\",index=False)\n",
    "y.to_csv(\"C:/Users/zhua273/Desktop/Project Data/y.csv\",index=False)"
   ]
  },
  {
   "cell_type": "code",
   "execution_count": 1,
   "metadata": {
    "id": "CzR2Xv6PD3G5"
   },
   "outputs": [],
   "source": [
    "## Already have X,y START FROM HERE!"
   ]
  },
  {
   "cell_type": "code",
   "execution_count": null,
   "metadata": {
    "id": "BBOhtUhcD3G6"
   },
   "outputs": [],
   "source": [
    "X = pd.read_csv(r'C:/Users/zhua273/Desktop/Project Data/X.csv')\n",
    "y = pd.read_csv(r'C:/Users/zhua273/Desktop/Project Data/y.csv')"
   ]
  },
  {
   "cell_type": "markdown",
   "metadata": {
    "id": "PXc_7nwgD3G6"
   },
   "source": [
    "## 1.1 Data Exploration"
   ]
  },
  {
   "cell_type": "code",
   "execution_count": null,
   "metadata": {
    "id": "g9aFumCgoB7a",
    "outputId": "048f1eea-09a9-4b01-9a5f-3faa0426282c"
   },
   "outputs": [
    {
     "data": {
      "text/plain": [
       "<AxesSubplot:>"
      ]
     },
     "execution_count": 15,
     "metadata": {},
     "output_type": "execute_result"
    },
    {
     "data": {
      "image/png": "[encoded data removed]",
      "text/plain": [
       "<Figure size 432x288 with 1 Axes>"
      ]
     },
     "metadata": {
      "needs_background": "light"
     },
     "output_type": "display_data"
    }
   ],
   "source": [
    "X.iloc[:,4].value_counts().plot()"
   ]
  },
  {
   "cell_type": "code",
   "execution_count": null,
   "metadata": {
    "id": "VopeeZ0ZoB7a",
    "outputId": "fdbe7bdf-28d5-4e1f-fefd-fad23ff6a6ba"
   },
   "outputs": [
    {
     "data": {
      "text/plain": [
       "<AxesSubplot:>"
      ]
     },
     "execution_count": 10,
     "metadata": {},
     "output_type": "execute_result"
    },
    {
     "data": {
      "image/png": "[encoded data removed]",
      "text/plain": [
       "<Figure size 432x288 with 1 Axes>"
      ]
     },
     "metadata": {
      "needs_background": "light"
     },
     "output_type": "display_data"
    }
   ],
   "source": [
    "X.iloc[:,9].value_counts().plot()"
   ]
  },
  {
   "cell_type": "code",
   "execution_count": null,
   "metadata": {
    "id": "2M127LJPoB7b",
    "outputId": "f4d20c9f-788a-483d-a38f-0a716a0559c7"
   },
   "outputs": [
    {
     "data": {
      "text/plain": [
       "<AxesSubplot:>"
      ]
     },
     "execution_count": 11,
     "metadata": {},
     "output_type": "execute_result"
    },
    {
     "data": {
      "image/png": "[encoded data removed]",
      "text/plain": [
       "<Figure size 432x288 with 1 Axes>"
      ]
     },
     "metadata": {
      "needs_background": "light"
     },
     "output_type": "display_data"
    }
   ],
   "source": [
    "X.iloc[:,11].value_counts().plot()"
   ]
  },
  {
   "cell_type": "code",
   "execution_count": null,
   "metadata": {
    "id": "I6A2rZZwoB7b",
    "outputId": "ce219be1-3d37-4891-bbed-08502bbc6fc2"
   },
   "outputs": [
    {
     "data": {
      "text/plain": [
       "<AxesSubplot:>"
      ]
     },
     "execution_count": 12,
     "metadata": {},
     "output_type": "execute_result"
    },
    {
     "data": {
      "image/png": "[encoded data removed]",
      "text/plain": [
       "<Figure size 432x288 with 1 Axes>"
      ]
     },
     "metadata": {
      "needs_background": "light"
     },
     "output_type": "display_data"
    }
   ],
   "source": [
    "X.iloc[:,14].value_counts().plot()"
   ]
  },
  {
   "cell_type": "code",
   "execution_count": null,
   "metadata": {
    "id": "DWAL37_3oB7c",
    "outputId": "043d7a5d-d602-4344-bffb-cab5b4eb753f"
   },
   "outputs": [
    {
     "data": {
      "text/plain": [
       "<AxesSubplot:>"
      ]
     },
     "execution_count": 13,
     "metadata": {},
     "output_type": "execute_result"
    },
    {
     "data": {
      "image/png": "[encoded data removed]",
      "text/plain": [
       "<Figure size 432x288 with 1 Axes>"
      ]
     },
     "metadata": {
      "needs_background": "light"
     },
     "output_type": "display_data"
    }
   ],
   "source": [
    "X.iloc[:,17].value_counts().plot()"
   ]
  },
  {
   "cell_type": "code",
   "execution_count": null,
   "metadata": {
    "id": "n0hiSJznoB7d",
    "outputId": "71ac49d2-2e48-4961-cbc0-38dc03b86860"
   },
   "outputs": [
    {
     "data": {
      "text/plain": [
       "device_id\n",
       "1          26317545\n",
       "2             17428\n",
       "3             11075\n",
       "4             10505\n",
       "5              7529\n",
       "             ...   \n",
       "2296161           1\n",
       "2296162           1\n",
       "2296163           1\n",
       "2296164           1\n",
       "2296165           1\n",
       "Name: device_ip, Length: 2296165, dtype: int64"
      ]
     },
     "execution_count": 16,
     "metadata": {},
     "output_type": "execute_result"
    }
   ],
   "source": [
    "X.groupby(\"device_id\").device_ip.count()"
   ]
  },
  {
   "cell_type": "code",
   "execution_count": null,
   "metadata": {
    "id": "q1WSZG9MoB7d",
    "outputId": "c44cb727-e52b-49de-a901-411f5f3a5b56"
   },
   "outputs": [
    {
     "data": {
      "text/plain": [
       "device_id\n",
       "1          7.212853e+05\n",
       "2          3.949828e+06\n",
       "3          7.380981e+05\n",
       "4          3.359480e+06\n",
       "5          6.291858e+05\n",
       "               ...     \n",
       "2296161    7.531100e+04\n",
       "2296162    4.890649e+06\n",
       "2296163    2.022459e+06\n",
       "2296164    2.395900e+04\n",
       "2296165    3.362591e+06\n",
       "Name: device_ip, Length: 2296165, dtype: float64"
      ]
     },
     "execution_count": 17,
     "metadata": {},
     "output_type": "execute_result"
    }
   ],
   "source": [
    "X.groupby(\"device_id\").device_ip.mean()"
   ]
  },
  {
   "cell_type": "code",
   "execution_count": null,
   "metadata": {
    "id": "xUrgqhbLoB7e",
    "outputId": "5e93c1cc-5862-4317-8e54-b8ad57ed9755"
   },
   "outputs": [
    {
     "data": {
      "text/plain": [
       "device_id\n",
       "1          1.613332e+12\n",
       "2          1.213824e+12\n",
       "3          1.851824e+12\n",
       "4          1.485912e+11\n",
       "5          9.207249e+11\n",
       "               ...     \n",
       "2296161             NaN\n",
       "2296162             NaN\n",
       "2296163             NaN\n",
       "2296164             NaN\n",
       "2296165             NaN\n",
       "Name: device_ip, Length: 2296165, dtype: float64"
      ]
     },
     "execution_count": 18,
     "metadata": {},
     "output_type": "execute_result"
    }
   ],
   "source": [
    "X.groupby(\"device_id\").device_ip.var()"
   ]
  },
  {
   "cell_type": "code",
   "execution_count": null,
   "metadata": {
    "id": "kzHVyd20oB7e",
    "outputId": "adc047e5-601a-4222-ad1f-15f0f6cd9a16"
   },
   "outputs": [
    {
     "data": {
      "text/plain": [
       "device_id\n",
       "1          15611.776985\n",
       "2              0.000000\n",
       "3          31158.546698\n",
       "4              0.000000\n",
       "5              0.000000\n",
       "               ...     \n",
       "2296161             NaN\n",
       "2296162             NaN\n",
       "2296163             NaN\n",
       "2296164             NaN\n",
       "2296165             NaN\n",
       "Name: app_id, Length: 2296165, dtype: float64"
      ]
     },
     "execution_count": 19,
     "metadata": {},
     "output_type": "execute_result"
    }
   ],
   "source": [
    "X.groupby(\"device_id\").app_id.var()"
   ]
  },
  {
   "cell_type": "code",
   "execution_count": null,
   "metadata": {
    "id": "JKQoaZUwoB7f",
    "outputId": "f206aaf1-f8d2-45fd-f927-f112d754384a"
   },
   "outputs": [
    {
     "data": {
      "text/plain": [
       "device_id\n",
       "1          16903.50717\n",
       "2              0.00000\n",
       "3              0.00000\n",
       "4              0.00000\n",
       "5              0.00000\n",
       "              ...     \n",
       "2296161            NaN\n",
       "2296162            NaN\n",
       "2296163            NaN\n",
       "2296164            NaN\n",
       "2296165            NaN\n",
       "Name: site_id, Length: 2296165, dtype: float64"
      ]
     },
     "execution_count": 20,
     "metadata": {},
     "output_type": "execute_result"
    }
   ],
   "source": [
    "X.groupby(\"device_id\").site_id.var()"
   ]
  },
  {
   "cell_type": "code",
   "execution_count": null,
   "metadata": {
    "id": "zeIHKjQzoB7f"
   },
   "outputs": [],
   "source": [
    "a = pd.DataFrame(X.groupby(\"device_id\").site_id.var())"
   ]
  },
  {
   "cell_type": "code",
   "execution_count": null,
   "metadata": {
    "id": "8psAl4L5oB7f",
    "outputId": "2ff90e41-2c02-426b-b8ad-c8050c7432b2"
   },
   "outputs": [
    {
     "data": {
      "text/html": [
       "<div>\n",
       "<style scoped>\n",
       "    .dataframe tbody tr th:only-of-type {\n",
       "        vertical-align: middle;\n",
       "    }\n",
       "\n",
       "    .dataframe tbody tr th {\n",
       "        vertical-align: top;\n",
       "    }\n",
       "\n",
       "    .dataframe thead th {\n",
       "        text-align: right;\n",
       "    }\n",
       "</style>\n",
       "<table border=\"1\" class=\"dataframe\">\n",
       "  <thead>\n",
       "    <tr style=\"text-align: right;\">\n",
       "      <th></th>\n",
       "      <th>site_id</th>\n",
       "    </tr>\n",
       "    <tr>\n",
       "      <th>device_id</th>\n",
       "      <th></th>\n",
       "    </tr>\n",
       "  </thead>\n",
       "  <tbody>\n",
       "    <tr>\n",
       "      <th>2</th>\n",
       "      <td>0.0</td>\n",
       "    </tr>\n",
       "    <tr>\n",
       "      <th>3</th>\n",
       "      <td>0.0</td>\n",
       "    </tr>\n",
       "    <tr>\n",
       "      <th>4</th>\n",
       "      <td>0.0</td>\n",
       "    </tr>\n",
       "    <tr>\n",
       "      <th>5</th>\n",
       "      <td>0.0</td>\n",
       "    </tr>\n",
       "    <tr>\n",
       "      <th>6</th>\n",
       "      <td>0.0</td>\n",
       "    </tr>\n",
       "    <tr>\n",
       "      <th>...</th>\n",
       "      <td>...</td>\n",
       "    </tr>\n",
       "    <tr>\n",
       "      <th>821761</th>\n",
       "      <td>0.0</td>\n",
       "    </tr>\n",
       "    <tr>\n",
       "      <th>821762</th>\n",
       "      <td>0.0</td>\n",
       "    </tr>\n",
       "    <tr>\n",
       "      <th>821763</th>\n",
       "      <td>0.0</td>\n",
       "    </tr>\n",
       "    <tr>\n",
       "      <th>821764</th>\n",
       "      <td>0.0</td>\n",
       "    </tr>\n",
       "    <tr>\n",
       "      <th>821765</th>\n",
       "      <td>0.0</td>\n",
       "    </tr>\n",
       "  </tbody>\n",
       "</table>\n",
       "<p>758317 rows × 1 columns</p>\n",
       "</div>"
      ],
      "text/plain": [
       "           site_id\n",
       "device_id         \n",
       "2              0.0\n",
       "3              0.0\n",
       "4              0.0\n",
       "5              0.0\n",
       "6              0.0\n",
       "...            ...\n",
       "821761         0.0\n",
       "821762         0.0\n",
       "821763         0.0\n",
       "821764         0.0\n",
       "821765         0.0\n",
       "\n",
       "[758317 rows x 1 columns]"
      ]
     },
     "execution_count": 25,
     "metadata": {},
     "output_type": "execute_result"
    }
   ],
   "source": [
    "a.loc[a.site_id==0]"
   ]
  },
  {
   "cell_type": "code",
   "execution_count": null,
   "metadata": {
    "id": "ktu4a9LLoB7g",
    "outputId": "80c81541-d214-4df1-f930-3b7925b1bb6c"
   },
   "outputs": [
    {
     "data": {
      "text/html": [
       "<div>\n",
       "<style scoped>\n",
       "    .dataframe tbody tr th:only-of-type {\n",
       "        vertical-align: middle;\n",
       "    }\n",
       "\n",
       "    .dataframe tbody tr th {\n",
       "        vertical-align: top;\n",
       "    }\n",
       "\n",
       "    .dataframe thead th {\n",
       "        text-align: right;\n",
       "    }\n",
       "</style>\n",
       "<table border=\"1\" class=\"dataframe\">\n",
       "  <thead>\n",
       "    <tr style=\"text-align: right;\">\n",
       "      <th></th>\n",
       "      <th>site_id</th>\n",
       "    </tr>\n",
       "    <tr>\n",
       "      <th>device_id</th>\n",
       "      <th></th>\n",
       "    </tr>\n",
       "  </thead>\n",
       "  <tbody>\n",
       "    <tr>\n",
       "      <th>1</th>\n",
       "      <td>16903.507170</td>\n",
       "    </tr>\n",
       "    <tr>\n",
       "      <th>22</th>\n",
       "      <td>58283.666697</td>\n",
       "    </tr>\n",
       "    <tr>\n",
       "      <th>52</th>\n",
       "      <td>5172.866006</td>\n",
       "    </tr>\n",
       "    <tr>\n",
       "      <th>128</th>\n",
       "      <td>118607.958434</td>\n",
       "    </tr>\n",
       "    <tr>\n",
       "      <th>174</th>\n",
       "      <td>101229.351167</td>\n",
       "    </tr>\n",
       "    <tr>\n",
       "      <th>...</th>\n",
       "      <td>...</td>\n",
       "    </tr>\n",
       "    <tr>\n",
       "      <th>821645</th>\n",
       "      <td>364.500000</td>\n",
       "    </tr>\n",
       "    <tr>\n",
       "      <th>821655</th>\n",
       "      <td>302642.000000</td>\n",
       "    </tr>\n",
       "    <tr>\n",
       "      <th>821708</th>\n",
       "      <td>158484.500000</td>\n",
       "    </tr>\n",
       "    <tr>\n",
       "      <th>821723</th>\n",
       "      <td>1740.500000</td>\n",
       "    </tr>\n",
       "    <tr>\n",
       "      <th>821753</th>\n",
       "      <td>10804.500000</td>\n",
       "    </tr>\n",
       "  </tbody>\n",
       "</table>\n",
       "<p>63448 rows × 1 columns</p>\n",
       "</div>"
      ],
      "text/plain": [
       "                 site_id\n",
       "device_id               \n",
       "1           16903.507170\n",
       "22          58283.666697\n",
       "52           5172.866006\n",
       "128        118607.958434\n",
       "174        101229.351167\n",
       "...                  ...\n",
       "821645        364.500000\n",
       "821655     302642.000000\n",
       "821708     158484.500000\n",
       "821723       1740.500000\n",
       "821753      10804.500000\n",
       "\n",
       "[63448 rows x 1 columns]"
      ]
     },
     "execution_count": 26,
     "metadata": {},
     "output_type": "execute_result"
    }
   ],
   "source": [
    "a.loc[a.site_id>0]"
   ]
  },
  {
   "cell_type": "code",
   "execution_count": null,
   "metadata": {
    "id": "OGSv2zAOoB7g",
    "outputId": "fedbd1a2-5dde-4243-cb06-cde280ba6774"
   },
   "outputs": [
    {
     "data": {
      "text/plain": [
       "device_id\n",
       "1           34.177795\n",
       "2           79.000000\n",
       "3            1.000000\n",
       "4          146.000000\n",
       "5            1.000000\n",
       "              ...    \n",
       "2296161      1.000000\n",
       "2296162      1.000000\n",
       "2296163      1.000000\n",
       "2296164      1.000000\n",
       "2296165      1.000000\n",
       "Name: site_id, Length: 2296165, dtype: float64"
      ]
     },
     "execution_count": 21,
     "metadata": {},
     "output_type": "execute_result"
    }
   ],
   "source": [
    "X.groupby(\"device_id\").site_id.mean()"
   ]
  },
  {
   "cell_type": "code",
   "execution_count": null,
   "metadata": {
    "id": "R_M22vKDoB7g",
    "outputId": "310f892a-3077-4654-c1ea-7611db569f72"
   },
   "outputs": [
    {
     "data": {
      "text/plain": [
       "site_id\n",
       "1       2.066186e+11\n",
       "2       8.847518e+06\n",
       "3       0.000000e+00\n",
       "4       0.000000e+00\n",
       "5       0.000000e+00\n",
       "            ...     \n",
       "4577             NaN\n",
       "4578             NaN\n",
       "4579             NaN\n",
       "4580             NaN\n",
       "4581             NaN\n",
       "Name: device_id, Length: 4581, dtype: float64"
      ]
     },
     "execution_count": 22,
     "metadata": {},
     "output_type": "execute_result"
    }
   ],
   "source": [
    "X.groupby(\"site_id\").device_id.var()"
   ]
  },
  {
   "cell_type": "markdown",
   "metadata": {},
   "source": [
    "## 1.2 Data Cleaning"
   ]
  },
  {
   "cell_type": "code",
   "execution_count": null,
   "metadata": {
    "id": "sfXTWxesdqdR"
   },
   "outputs": [],
   "source": [
    "def get_greater_than(col,threshold_pct):\n",
    "    threshold = threshold_pct/100 * len(col)\n",
    "    p = pd.DataFrame(col.value_counts())\n",
    "    return len(p[p.iloc[:,0]>threshold])"
   ]
  },
  {
   "cell_type": "code",
   "execution_count": null,
   "metadata": {
    "id": "O-EZlplUdqdS"
   },
   "outputs": [],
   "source": [
    "def clean_data(data, percentage):\n",
    "    threshold = []\n",
    "    data1 = data\n",
    "    for x in range(0, data.shape[1]):\n",
    "        thres_1 = get_greater_than(data.iloc[:,x], percentage)\n",
    "        threshold.append(thres_1)\n",
    "        \n",
    "    for x in range(0, data.shape[1]):\n",
    "        data1.iloc[:,x] = np.where(data.iloc[:,x] >= threshold[x], 0, data.iloc[:,x])\n",
    "    \n",
    "    return data1"
   ]
  },
  {
   "cell_type": "code",
   "execution_count": null,
   "metadata": {
    "id": "VCmfDeShD3G7"
   },
   "outputs": [],
   "source": [
    "def get_class_count(col):\n",
    "    p = pd.DataFrame(col.value_counts())\n",
    "    return len(p)"
   ]
  },
  {
   "cell_type": "code",
   "execution_count": null,
   "metadata": {
    "id": "E8fwIUESD3G6"
   },
   "outputs": [],
   "source": [
    "# clean the data with the threshold at 0.01% \n",
    "# categories whose occurrence less than 0.01% of datasize will be labelles as 0\n",
    "\n",
    "X_cleaned = clean_data(X, 0.01)"
   ]
  },
  {
   "cell_type": "code",
   "execution_count": null,
   "metadata": {
    "id": "ovhZ8AoOD3G7"
   },
   "outputs": [],
   "source": [
    "Full = pd.concat([X_cleaned, y], axis=1)\n",
    "\n",
    "# get variane across different categories, the higher the better\n",
    "class_vars = []\n",
    "for col in Full.columns:\n",
    "    class_means = pd.DataFrame(Full.groupby(col)['click'].mean())\n",
    "    class_vars.append(class_means['click'].var())\n",
    "    \n",
    "class_vars = class_vars[0:len(class_vars)-1]"
   ]
  },
  {
   "cell_type": "code",
   "execution_count": null,
   "metadata": {
    "id": "EDUHRF_yD3G7",
    "outputId": "f446979f-690e-4437-e6ef-d37e882fd4bb"
   },
   "outputs": [
    {
     "data": {
      "image/png": "[encoded data removed]",
      "text/plain": [
       "<Figure size 432x288 with 1 Axes>"
      ]
     },
     "metadata": {
      "needs_background": "light"
     },
     "output_type": "display_data"
    }
   ],
   "source": [
    "# 0.001% around 300\n",
    "plt.bar(np.arange(0, len(class_vars), 1),class_vars,color='blue')\n",
    "plt.xticks(np.arange(0, len(class_vars), 1))\n",
    "plt.plot([23, 0, 0], [0.02, 0.02, 0.02], 'k-', lw=1,dashes=[2, 2])\n",
    "plt.yticks(np.arange(0, 0.1, 0.01))\n",
    "plt.title(\"Cross-Category Variance with 0.001% Threshold\")\n",
    "plt.show()"
   ]
  },
  {
   "cell_type": "code",
   "execution_count": null,
   "metadata": {
    "id": "pM9xnBw7D3G8",
    "outputId": "97b4aa3f-395d-45f1-fa0f-cdb6cb1d4a5c"
   },
   "outputs": [
    {
     "name": "stdout",
     "output_type": "stream",
     "text": [
      "0 216\n",
      "1 7\n",
      "2 7\n",
      "3 1173\n",
      "4 956\n",
      "5 20\n",
      "6 900\n",
      "7 69\n",
      "8 20\n",
      "9 137\n",
      "10 8313\n",
      "11 2598\n",
      "12 4\n",
      "13 4\n",
      "14 1466\n",
      "15 8\n",
      "16 9\n",
      "17 372\n",
      "18 4\n",
      "19 61\n",
      "20 155\n",
      "21 55\n",
      "22 24\n",
      "23 9\n"
     ]
    }
   ],
   "source": [
    "# print number of unique categories within each column \n",
    "for x in range(0, X_cleaned.shape[1]):\n",
    "    print(str(x),get_class_count(X_cleaned.iloc[:,x]))"
   ]
  },
  {
   "cell_type": "code",
   "execution_count": null,
   "metadata": {
    "id": "A-RtEDegD3G8",
    "outputId": "0ed647b4-a755-4a67-bfd5-b63f1a2a7276"
   },
   "outputs": [
    {
     "data": {
      "image/png": "[encoded data removed]",
      "text/plain": [
       "<Figure size 432x288 with 1 Axes>"
      ]
     },
     "metadata": {
      "needs_background": "light"
     },
     "output_type": "display_data"
    }
   ],
   "source": [
    "# 0.01% around 3000\n",
    "plt.bar(np.arange(0, len(class_vars), 1),class_vars,color='blue')\n",
    "plt.xticks(np.arange(0, len(class_vars), 1))\n",
    "plt.plot([23, 0, 0], [0.02, 0.02, 0.02], 'k-', lw=1,dashes=[2, 2])\n",
    "plt.yticks(np.arange(0, 0.1, 0.01))\n",
    "plt.title(\"Cross-Category Variance with 0.01% Threshold\")\n",
    "plt.show()"
   ]
  },
  {
   "cell_type": "code",
   "execution_count": null,
   "metadata": {
    "id": "yzGH4535D3G8",
    "outputId": "da9053ec-6a85-43f5-a2f2-70e1e45e225e"
   },
   "outputs": [
    {
     "name": "stdout",
     "output_type": "stream",
     "text": [
      "0 216\n",
      "1 7\n",
      "2 6\n",
      "3 350\n",
      "4 267\n",
      "5 13\n",
      "6 241\n",
      "7 30\n",
      "8 15\n",
      "9 9\n",
      "10 272\n",
      "11 852\n",
      "12 4\n",
      "13 4\n",
      "14 692\n",
      "15 4\n",
      "16 5\n",
      "17 298\n",
      "18 4\n",
      "19 56\n",
      "20 123\n",
      "21 52\n",
      "22 24\n",
      "23 9\n"
     ]
    }
   ],
   "source": [
    "for x in range(0, X_cleaned.shape[1]):\n",
    "    print(str(x),get_class_count(X_cleaned.iloc[:,x]))"
   ]
  },
  {
   "cell_type": "code",
   "execution_count": null,
   "metadata": {
    "id": "WL_wbEseD3G8",
    "outputId": "b81206ba-7811-406b-9c51-5c187d04b07e"
   },
   "outputs": [
    {
     "data": {
      "image/png": "[encoded data removed]",
      "text/plain": [
       "<Figure size 432x288 with 1 Axes>"
      ]
     },
     "metadata": {
      "needs_background": "light"
     },
     "output_type": "display_data"
    }
   ],
   "source": [
    "# 0.1% around 30000\n",
    "plt.bar(np.arange(0, len(class_vars), 1),class_vars,color='blue')\n",
    "plt.xticks(np.arange(0, len(class_vars), 1))\n",
    "plt.plot([23, 0, 0], [0.02, 0.02, 0.02], 'k-', lw=1,dashes=[2, 2])\n",
    "plt.yticks(np.arange(0, 0.1, 0.01))\n",
    "plt.title(\"Cross-Category Variance with 0.1% Threshold\")\n",
    "plt.show()"
   ]
  },
  {
   "cell_type": "code",
   "execution_count": null,
   "metadata": {
    "id": "syA9G8YLD3G9",
    "outputId": "0c0748b3-1fd5-43bb-f021-52e281a9b12c"
   },
   "outputs": [
    {
     "name": "stdout",
     "output_type": "stream",
     "text": [
      "0 211\n",
      "1 4\n",
      "2 3\n",
      "3 66\n",
      "4 62\n",
      "5 9\n",
      "6 53\n",
      "7 18\n",
      "8 9\n",
      "9 2\n",
      "10 22\n",
      "11 154\n",
      "12 4\n",
      "13 4\n",
      "14 205\n",
      "15 4\n",
      "16 5\n",
      "17 143\n",
      "18 4\n",
      "19 43\n",
      "20 61\n",
      "21 40\n",
      "22 24\n",
      "23 9\n"
     ]
    }
   ],
   "source": [
    "for x in range(0, X_cleaned.shape[1]):\n",
    "    print(str(x),get_class_count(X_cleaned.iloc[:,x]))"
   ]
  },
  {
   "cell_type": "code",
   "execution_count": null,
   "metadata": {
    "id": "HNY2azc6D3G9"
   },
   "outputs": [],
   "source": [
    "def build_embedded_data_cleaning(train_data):\n",
    "    \n",
    "    inputs = {}\n",
    "    for x in range(0, train_data.shape[1]):\n",
    "        inputs[\"input_{0}\".format(x)] = Input(shape=(1,))\n",
    "        \n",
    "    inputs_embedded = {}\n",
    "    for x in range(0, train_data.shape[1]):\n",
    "        inputs_embedded[\"inputs_embedded_{0}\".format(x)] = Embedding(input_dim=max(train_data.iloc[:,x])+1,\n",
    "                                                                     output_dim=math.ceil(math.sqrt(len(train_data.iloc[:,x].value_counts()))))\\\n",
    "                                                          (inputs[\"input_{0}\".format(x)])\n",
    "                                                                     \n",
    "        inputs_embedded[\"inputs_embedded_{0}\".format(x)] = Flatten()(inputs_embedded[\"inputs_embedded_{0}\".format(x)])\n",
    "    \n",
    "    merged_layer = concatenate(list(inputs_embedded.values()))\n",
    "    \n",
    "    output = Dense(1, activation='sigmoid',kernel_initializer=initializers.RandomNormal(stddev=0.01))(merged_layer)\n",
    "    \n",
    "    model = Model(inputs=list(inputs.values()), outputs=[output])\n",
    "    \n",
    "    model.compile(loss='binary_crossentropy', optimizer=Adam(learning_rate=1e-3))\n",
    "   \n",
    "    return model"
   ]
  },
  {
   "cell_type": "code",
   "execution_count": null,
   "metadata": {
    "id": "lmKlluR0D3G9"
   },
   "outputs": [],
   "source": [
    "build_embedded_data_cleaning = build_embedded_data_cleaning(X_cleaned)"
   ]
  },
  {
   "cell_type": "code",
   "execution_count": null,
   "metadata": {
    "id": "1m8vB8YCD3G9",
    "outputId": "ccf1cafb-b82d-4d25-aca2-bae446e6e621"
   },
   "outputs": [
    {
     "name": "stdout",
     "output_type": "stream",
     "text": [
      "Epoch 1/3\n",
      "10935/10935 [==============================] - 38s 3ms/step - loss: 0.4083 - val_loss: 0.4058\n",
      "Epoch 2/3\n",
      "10935/10935 [==============================] - 36s 3ms/step - loss: 0.4059 - val_loss: 0.4057\n",
      "Epoch 3/3\n",
      "10935/10935 [==============================] - 36s 3ms/step - loss: 0.4058 - val_loss: 0.4057\n"
     ]
    },
    {
     "data": {
      "text/plain": [
       "<keras.callbacks.History at 0x1b230eb6fd0>"
      ]
     },
     "execution_count": 66,
     "metadata": {},
     "output_type": "execute_result"
    }
   ],
   "source": [
    "# 0.1 with initializer, around 30\n",
    "build_embedded_data_cleaning.fit(X_list, y_train, epochs=3, batch_size=2048, validation_data=(X_test_list, y_test), shuffle=False, verbose=1)"
   ]
  },
  {
   "cell_type": "code",
   "execution_count": null,
   "metadata": {
    "id": "DGRkLatJD3G-",
    "outputId": "7caeb569-dceb-4e67-e72a-180ea0bf3b1d"
   },
   "outputs": [
    {
     "name": "stdout",
     "output_type": "stream",
     "text": [
      "Epoch 1/3\n",
      "10935/10935 [==============================] - 44s 4ms/step - loss: 0.4012 - val_loss: 0.3990\n",
      "Epoch 2/3\n",
      "10935/10935 [==============================] - 39s 4ms/step - loss: 0.3991 - val_loss: 0.3989\n",
      "Epoch 3/3\n",
      "10935/10935 [==============================] - 41s 4ms/step - loss: 0.3990 - val_loss: 0.3988\n"
     ]
    },
    {
     "data": {
      "text/plain": [
       "<keras.callbacks.History at 0x1b230252640>"
      ]
     },
     "execution_count": 49,
     "metadata": {},
     "output_type": "execute_result"
    }
   ],
   "source": [
    "# 0.01 with initializer, around 3000\n",
    "build_embedded_data_cleaning.fit(X_list, y_train, epochs=3, batch_size=2048, validation_data=(X_test_list, y_test), shuffle=False, verbose=1)"
   ]
  },
  {
   "cell_type": "code",
   "execution_count": null,
   "metadata": {
    "id": "QrOIHYdED3G-",
    "outputId": "9cf694ac-ab3a-4d5b-ed60-c411faee08f3"
   },
   "outputs": [
    {
     "name": "stdout",
     "output_type": "stream",
     "text": [
      "Epoch 1/3\n",
      "10935/10935 [==============================] - 102s 9ms/step - loss: 0.3941 - val_loss: 0.3963\n",
      "Epoch 2/3\n",
      "10935/10935 [==============================] - 101s 9ms/step - loss: 0.3937 - val_loss: 0.3967\n",
      "Epoch 3/3\n",
      "10935/10935 [==============================] - 101s 9ms/step - loss: 0.3933 - val_loss: 0.3971\n"
     ]
    },
    {
     "data": {
      "text/plain": [
       "<keras.callbacks.History at 0x1b230ffb190>"
      ]
     },
     "execution_count": 58,
     "metadata": {},
     "output_type": "execute_result"
    }
   ],
   "source": [
    "# 0.001 with initializer, around 300\n",
    "build_embedded_data_cleaning.fit(X_list, y_train, epochs=3, batch_size=2048, validation_data=(X_test_list, y_test), shuffle=False, verbose=1)"
   ]
  },
  {
   "cell_type": "code",
   "execution_count": null,
   "metadata": {
    "id": "f7muZ_LND3G-"
   },
   "outputs": [],
   "source": [
    "### 0.01% threshold gives reasonable number of catergories and has fairly good cross class variance, \n",
    "# so we choose 0.01% as the cleaning threshold, which put all categories less than 0.01% * datasize \n",
    "# (approimately 3000) as \"The Others\" (represented by 0 in the ordinal encoding)"
   ]
  },
  {
   "cell_type": "markdown",
   "metadata": {},
   "source": [
    "## 2. Model Construction"
   ]
  },
  {
   "cell_type": "code",
   "execution_count": null,
   "metadata": {
    "id": "SuViE9TjdqdT"
   },
   "outputs": [],
   "source": [
    "# full dataset\n",
    "X_train, X_test, y_train, y_test = train_test_split(X_cleaned, y, test_size=0.3, random_state=42)"
   ]
  },
  {
   "cell_type": "code",
   "execution_count": null,
   "metadata": {
    "id": "fPBzgn2EdqdU"
   },
   "outputs": [],
   "source": [
    "X_list = []\n",
    "for i in range(0, X_train.shape[1]):\n",
    "    X_list.append(X_train.iloc[:,i])\n",
    "    \n",
    "X_test_list = []\n",
    "for i in range(0, X_test.shape[1]):\n",
    "    X_test_list.append(X_test.iloc[:,i])"
   ]
  },
  {
   "cell_type": "code",
   "execution_count": null,
   "metadata": {
    "id": "3VCs-FjkD3G_"
   },
   "outputs": [],
   "source": [
    "# sample dataset\n",
    "X_train_sample, X_test_sample, y_train_sample, y_test_sample = train_test_split(X_train, y_train, test_size=0.8, random_state=42)"
   ]
  },
  {
   "cell_type": "code",
   "execution_count": null,
   "metadata": {
    "id": "MoSRoV8MD3G_"
   },
   "outputs": [],
   "source": [
    "X_sample_list = []\n",
    "for i in range(0, X_train_sample.shape[1]):\n",
    "    X_sample_list.append(X_train_sample.iloc[:,i])\n",
    "    \n",
    "X_test_sample_list = []\n",
    "for i in range(0, X_test_sample.shape[1]):\n",
    "    X_test_sample_list.append(X_test_sample.iloc[:,i])    "
   ]
  },
  {
   "cell_type": "markdown",
   "metadata": {},
   "source": [
    "### 2.1 Baseline Model"
   ]
  },
  {
   "cell_type": "code",
   "execution_count": null,
   "metadata": {},
   "outputs": [],
   "source": [
    "# Random Forest\n",
    "\n",
    "from sklearn.ensemble import RandomForestClassifier\n",
    "\n",
    "rf = RandomForestClassifier(n_estimators = 100, criterion = \"entropy\", random_state = 42, \n",
    "                            min_samples_split=300, max_depth=30, n_jobs=4)\n",
    "\n",
    "rf.fit(X_train_sample, y_train_sample)"
   ]
  },
  {
   "cell_type": "code",
   "execution_count": null,
   "metadata": {},
   "outputs": [],
   "source": [
    "from sklearn.metrics import log_loss\n",
    "prediction = rf.predict_proba(X_test_sample)\n",
    "log_loss(y_test_sample,prediction)\n",
    "\n",
    "# 0.39528884102584344"
   ]
  },
  {
   "cell_type": "code",
   "execution_count": null,
   "metadata": {},
   "outputs": [],
   "source": [
    "# Logistics Regression\n",
    "\n",
    "from sklearn.linear_model import LogisticRegression\n",
    "\n",
    "clf = LogisticRegression(random_state=42,n_jobs=4,penalty=\"l2\").fit(X_train_sample, y_train_sample)"
   ]
  },
  {
   "cell_type": "code",
   "execution_count": null,
   "metadata": {},
   "outputs": [],
   "source": [
    "from sklearn.metrics import log_loss\n",
    "prediction_lr = clf.predict_proba(X_test_sample)\n",
    "log_loss(y_test_sample,prediction_lr)\n",
    "\n",
    "# 0.4497992453708017"
   ]
  },
  {
   "cell_type": "markdown",
   "metadata": {
    "id": "AKK_S0S9dqdV"
   },
   "source": [
    "## 2.2 Embedded Neural Network"
   ]
  },
  {
   "cell_type": "markdown",
   "metadata": {
    "id": "Q5Oq7DoJdqdZ"
   },
   "source": [
    "### 2.2.1 Test Embedding Ouput"
   ]
  },
  {
   "cell_type": "code",
   "execution_count": null,
   "metadata": {
    "id": "KTHTLKkTD3G_"
   },
   "outputs": [],
   "source": [
    "# frist, have tried using half or full of the number of categories as output dim, but they tend to overfit \n",
    "# try some other rule of thumbs\n",
    "# https://mmuratarat.github.io/2019-06-12/embeddings-with-numeric-variables-Keras"
   ]
  },
  {
   "cell_type": "code",
   "execution_count": null,
   "metadata": {
    "id": "-V6pyqVIdqdV"
   },
   "outputs": [],
   "source": [
    "def build_embedded_model_sqrt(train_data):\n",
    "    \n",
    "    inputs = {}\n",
    "    for x in range(0, train_data.shape[1]):\n",
    "        inputs[\"input_{0}\".format(x)] = Input(shape=(1,))\n",
    "        \n",
    "    inputs_embedded = {}\n",
    "    for x in range(0, train_data.shape[1]):\n",
    "        inputs_embedded[\"inputs_embedded_{0}\".format(x)] = Embedding(input_dim=max(train_data.iloc[:,x])+1,\n",
    "                                                                     output_dim=math.ceil(math.sqrt(len(train_data.iloc[:,x].value_counts()))))\\\n",
    "                                                          (inputs[\"input_{0}\".format(x)])\n",
    "                                                                     \n",
    "        inputs_embedded[\"inputs_embedded_{0}\".format(x)] = Flatten()(inputs_embedded[\"inputs_embedded_{0}\".format(x)])\n",
    "    \n",
    "    merged_layer = concatenate(list(inputs_embedded.values()))\n",
    "    \n",
    "    output = Dense(1, activation='sigmoid',kernel_initializer=initializers.RandomNormal(stddev=0.01))(merged_layer)\n",
    "    \n",
    "    model = Model(inputs=list(inputs.values()), outputs=[output])\n",
    "    \n",
    "    model.compile(loss='binary_crossentropy', optimizer=Adam(learning_rate=1e-3))\n",
    "   \n",
    "    return model"
   ]
  },
  {
   "cell_type": "code",
   "execution_count": null,
   "metadata": {
    "id": "rnsCf4wTD3HA"
   },
   "outputs": [],
   "source": [
    "def build_embedded_model_fourth_sqrt(train_data):\n",
    "    \n",
    "    inputs = {}\n",
    "    for x in range(0, train_data.shape[1]):\n",
    "        inputs[\"input_{0}\".format(x)] = Input(shape=(1,))\n",
    "        \n",
    "    inputs_embedded = {}\n",
    "    for x in range(0, train_data.shape[1]):\n",
    "        inputs_embedded[\"inputs_embedded_{0}\".format(x)] = Embedding(input_dim=max(train_data.iloc[:,x])+1,\n",
    "                                                                     output_dim=math.ceil(math.sqrt(math.sqrt(len(train_data.iloc[:,x].value_counts())))))\\\n",
    "                                                          (inputs[\"input_{0}\".format(x)])\n",
    "                                                                     \n",
    "        inputs_embedded[\"inputs_embedded_{0}\".format(x)] = Flatten()(inputs_embedded[\"inputs_embedded_{0}\".format(x)])\n",
    "    \n",
    "    merged_layer = concatenate(list(inputs_embedded.values()))\n",
    "    \n",
    "    output = Dense(1, activation='sigmoid',kernel_initializer=initializers.RandomNormal(stddev=0.01))(merged_layer)\n",
    "    \n",
    "    model = Model(inputs=list(inputs.values()), outputs=[output])\n",
    "    \n",
    "    model.compile(loss='binary_crossentropy', optimizer=Adam(learning_rate=1e-3))\n",
    "   \n",
    "    return model"
   ]
  },
  {
   "cell_type": "code",
   "execution_count": null,
   "metadata": {
    "id": "xxuRwCctD3HA"
   },
   "outputs": [],
   "source": [
    "def build_embedded_model_half_50(train_data):\n",
    "    \n",
    "    inputs = {}\n",
    "    for x in range(0, train_data.shape[1]):\n",
    "        inputs[\"input_{0}\".format(x)] = Input(shape=(1,))\n",
    "        \n",
    "    inputs_embedded = {}\n",
    "    for x in range(0, train_data.shape[1]):\n",
    "        inputs_embedded[\"inputs_embedded_{0}\".format(x)] = Embedding(input_dim=max(train_data.iloc[:,x])+1,\n",
    "                                                                     output_dim=min(50, math.ceil(len(train_data.iloc[:,x].value_counts())/2)))\\\n",
    "                                                          (inputs[\"input_{0}\".format(x)])\n",
    "                                                                     \n",
    "        inputs_embedded[\"inputs_embedded_{0}\".format(x)] = Flatten()(inputs_embedded[\"inputs_embedded_{0}\".format(x)])\n",
    "    \n",
    "    merged_layer = concatenate(list(inputs_embedded.values()))\n",
    "    \n",
    "    output = Dense(1, activation='sigmoid',kernel_initializer=initializers.RandomNormal(stddev=0.01))(merged_layer)\n",
    "    \n",
    "    model = Model(inputs=list(inputs.values()), outputs=[output])\n",
    "    \n",
    "    model.compile(loss='binary_crossentropy', optimizer=Adam(learning_rate=1e-3))\n",
    "   \n",
    "    return model"
   ]
  },
  {
   "cell_type": "code",
   "execution_count": null,
   "metadata": {
    "id": "euB8BdGTdqdW"
   },
   "outputs": [],
   "source": [
    "embedded_model_sqrt = build_embedded_model_sqrt(X_train_sample)"
   ]
  },
  {
   "cell_type": "code",
   "execution_count": null,
   "metadata": {
    "id": "4UVaoHUXD3HA"
   },
   "outputs": [],
   "source": [
    "embedded_model_fourth_sqrt = build_embedded_model_fourth_sqrt(X_train_sample)"
   ]
  },
  {
   "cell_type": "code",
   "execution_count": null,
   "metadata": {
    "id": "UipUzsHxD3HA"
   },
   "outputs": [],
   "source": [
    "embedded_model_half_50 = build_embedded_model_half_50(X_train_sample)"
   ]
  },
  {
   "cell_type": "code",
   "execution_count": null,
   "metadata": {
    "id": "lem4cozGdqdZ",
    "outputId": "bc5c9934-8a28-43bc-a035-01b171ca7fb8"
   },
   "outputs": [
    {
     "name": "stdout",
     "output_type": "stream",
     "text": [
      "Epoch 1/2\n",
      "1094/1094 [==============================] - 38s 34ms/step - loss: 0.4109 - val_loss: 0.3968\n",
      "Epoch 2/2\n",
      "1094/1094 [==============================] - 34s 31ms/step - loss: 0.3959 - val_loss: 0.3964\n"
     ]
    },
    {
     "data": {
      "text/plain": [
       "<keras.callbacks.History at 0x1b3927547f0>"
      ]
     },
     "execution_count": 95,
     "metadata": {},
     "output_type": "execute_result"
    }
   ],
   "source": [
    "# sqrt\n",
    "embedded_model_sqrt.fit(X_sample_list, y_train_sample, epochs=2, batch_size=4096, validation_data=(X_test_sample_list, y_test_sample), shuffle=False, verbose=1)"
   ]
  },
  {
   "cell_type": "code",
   "execution_count": null,
   "metadata": {
    "id": "3pY_czQmD3HB",
    "outputId": "effd629e-1d77-4cb3-e1d1-9b7e5f390703"
   },
   "outputs": [
    {
     "name": "stdout",
     "output_type": "stream",
     "text": [
      "Epoch 1/2\n",
      "1094/1094 [==============================] - 19s 16ms/step - loss: 0.4231 - val_loss: 0.3983\n",
      "Epoch 2/2\n",
      "1094/1094 [==============================] - 14s 13ms/step - loss: 0.3966 - val_loss: 0.3966\n"
     ]
    },
    {
     "data": {
      "text/plain": [
       "<keras.callbacks.History at 0x1b39389eca0>"
      ]
     },
     "execution_count": 97,
     "metadata": {},
     "output_type": "execute_result"
    }
   ],
   "source": [
    "# fourth_sqrt\n",
    "embedded_model_fourth_sqrt.fit(X_sample_list, y_train_sample, epochs=2, batch_size=4096, validation_data=(X_test_sample_list, y_test_sample), shuffle=False, verbose=1)"
   ]
  },
  {
   "cell_type": "code",
   "execution_count": null,
   "metadata": {
    "id": "R0aRQMA4D3HB",
    "outputId": "29890916-e87c-431e-b348-7ed2685781bf"
   },
   "outputs": [
    {
     "name": "stdout",
     "output_type": "stream",
     "text": [
      "Epoch 1/2\n",
      "1094/1094 [==============================] - 58s 50ms/step - loss: 0.4081 - val_loss: 0.39673s - loss: 0. - ETA: 3s - loss: 0. -  - ETA: 1s - loss: 0.409 - ETA: 1s - - ETA: 0s - loss: 0 - ETA: 0s - loss: 0. - ETA: 0s - loss: 0\n",
      "Epoch 2/2\n",
      "1094/1094 [==============================] - 54s 49ms/step - loss: 0.3959 - val_loss: 0.39658s - loss: 0. - ETA: 8s -  - ETA: 7s - loss: 0.395 - ETA: 7s - loss: - ETA: 7s - loss: 0.39 - ETA: 7s - loss: 0.395 - ETA: 7s - loss:  - ETA: 6s - lo - ETA - ETA: 0s - lo\n"
     ]
    },
    {
     "data": {
      "text/plain": [
       "<keras.callbacks.History at 0x1b393eedaf0>"
      ]
     },
     "execution_count": 98,
     "metadata": {},
     "output_type": "execute_result"
    }
   ],
   "source": [
    "# half_50\n",
    "embedded_model_half_50.fit(X_sample_list, y_train_sample, epochs=2, batch_size=4096, validation_data=(X_test_sample_list, y_test_sample), shuffle=False, verbose=1)"
   ]
  },
  {
   "cell_type": "code",
   "execution_count": null,
   "metadata": {
    "id": "1XgF-l6_D3HB"
   },
   "outputs": [],
   "source": [
    "### clearly, too large output dimension overfit the data, sqrt is the best currently"
   ]
  },
  {
   "cell_type": "code",
   "execution_count": null,
   "metadata": {
    "id": "Jsdfx-u8D3HB"
   },
   "outputs": [],
   "source": [
    "### Genrally, sqrt is quick and perform well, so we use sqrt as output dim"
   ]
  },
  {
   "cell_type": "markdown",
   "metadata": {
    "id": "3ne76cUcdqdd"
   },
   "source": [
    "### 2.2.2 Hyperparameter Tuning"
   ]
  },
  {
   "cell_type": "code",
   "execution_count": null,
   "metadata": {},
   "outputs": [],
   "source": [
    "# first try some different set of params to get a general idea"
   ]
  },
  {
   "cell_type": "code",
   "execution_count": null,
   "metadata": {
    "id": "nYSbTb9Wdqdd"
   },
   "outputs": [],
   "source": [
    "def build_tuning_model(hp):\n",
    "    \n",
    "    inputs = {}\n",
    "    for x in range(0, X_cleaned.shape[1]):\n",
    "        inputs[\"input_{0}\".format(x)] = Input(shape=(1,))\n",
    "        \n",
    "    inputs_embedded = {}\n",
    "    for x in range(0, X_cleaned.shape[1]):\n",
    "        inputs_embedded[\"inputs_embedded_{0}\".format(x)] = Embedding(input_dim=max(X_cleaned.iloc[:,x])+1,\n",
    "                                                                     output_dim=math.ceil(math.sqrt(max(X_cleaned.iloc[:,x]))))\\\n",
    "                                                          (inputs[\"input_{0}\".format(x)])\n",
    "        inputs_embedded[\"inputs_embedded_{0}\".format(x)] = Flatten()(inputs_embedded[\"inputs_embedded_{0}\".format(x)])\n",
    "    \n",
    "    x = concatenate(list(inputs_embedded.values()))\n",
    "    \n",
    "    for i in range(hp.Int('layers',2,4)):\n",
    "        x = Dense(units = hp.Choice('units_'+str(i),[32,64,128,256]), activation='relu',\n",
    "                  kernel_initializer=initializers.RandomNormal(stddev=0.01))(x)\n",
    "        \n",
    "    # use Relu because:\n",
    "    # https://machinelearningmastery.com/choose-an-activation-function-for-deep-learning/\n",
    "    \n",
    "    output = Dense(1, activation='sigmoid',kernel_initializer=initializers.RandomNormal(stddev=0.01))(x)\n",
    "    \n",
    "    model = Model(inputs=list(inputs.values()), outputs=[output])\n",
    "    \n",
    "    model.compile(loss='binary_crossentropy', optimizer=Adam(hp.Choice('learning_rate', [1e-2,1e-3,1e-4])))\n",
    "   \n",
    "    return model"
   ]
  },
  {
   "cell_type": "code",
   "execution_count": null,
   "metadata": {
    "id": "ns74FOhyoB7r"
   },
   "outputs": [],
   "source": [
    "# first tune"
   ]
  },
  {
   "cell_type": "code",
   "execution_count": null,
   "metadata": {
    "id": "uKoC-MNDD3HC"
   },
   "outputs": [],
   "source": [
    "bayesian_opt_tuner = BayesianOptimization(\n",
    "    build_tuning_model,\n",
    "    objective='val_loss',\n",
    "    max_trials=10,\n",
    "    executions_per_trial=1,\n",
    "overwrite = True)"
   ]
  },
  {
   "cell_type": "code",
   "execution_count": null,
   "metadata": {
    "id": "2PUvMR_6D3HC",
    "outputId": "1355c324-704a-4d0e-88b5-646b13dfe3fa"
   },
   "outputs": [
    {
     "name": "stdout",
     "output_type": "stream",
     "text": [
      "Trial 10 Complete [00h 06m 39s]\n",
      "val_loss: 0.3941546678543091\n",
      "\n",
      "Best val_loss So Far: 0.39375409483909607\n",
      "Total elapsed time: 01h 06m 10s\n",
      "INFO:tensorflow:Oracle triggered exit\n"
     ]
    }
   ],
   "source": [
    "bayesian_opt_tuner.search(X_sample_list, y_train_sample, epochs=5, batch_size=4096 ,\n",
    "                          validation_data=(X_test_sample_list, y_test_sample), \n",
    "             shuffle=True, verbose=1)"
   ]
  },
  {
   "cell_type": "code",
   "execution_count": null,
   "metadata": {
    "id": "OAN4lzIjoB7r",
    "outputId": "4031adb2-1151-43a7-ca5f-7921156c82d2"
   },
   "outputs": [
    {
     "name": "stdout",
     "output_type": "stream",
     "text": [
      "Results summary\n",
      "Results in .\\untitled_project\n",
      "Showing 10 best trials\n",
      "Objective(name='val_loss', direction='min')\n",
      "Trial summary\n",
      "Hyperparameters:\n",
      "layers: 2\n",
      "units_0: 32\n",
      "units_1: 256\n",
      "learning_rate: 0.01\n",
      "Score: 0.39375409483909607\n",
      "Trial summary\n",
      "Hyperparameters:\n",
      "layers: 4\n",
      "units_0: 32\n",
      "units_1: 256\n",
      "learning_rate: 0.01\n",
      "units_2: 256\n",
      "units_3: 32\n",
      "Score: 0.39397719502449036\n",
      "Trial summary\n",
      "Hyperparameters:\n",
      "layers: 4\n",
      "units_0: 32\n",
      "units_1: 32\n",
      "learning_rate: 0.01\n",
      "units_2: 256\n",
      "units_3: 32\n",
      "Score: 0.3941492736339569\n",
      "Trial summary\n",
      "Hyperparameters:\n",
      "layers: 3\n",
      "units_0: 32\n",
      "units_1: 256\n",
      "learning_rate: 0.01\n",
      "units_2: 32\n",
      "units_3: 32\n",
      "Score: 0.3941546678543091\n",
      "Trial summary\n",
      "Hyperparameters:\n",
      "layers: 4\n",
      "units_0: 32\n",
      "units_1: 32\n",
      "learning_rate: 0.01\n",
      "units_2: 32\n",
      "units_3: 32\n",
      "Score: 0.3941642642021179\n",
      "Trial summary\n",
      "Hyperparameters:\n",
      "layers: 2\n",
      "units_0: 32\n",
      "units_1: 32\n",
      "learning_rate: 0.01\n",
      "units_2: 32\n",
      "units_3: 32\n",
      "Score: 0.39423510432243347\n",
      "Trial summary\n",
      "Hyperparameters:\n",
      "layers: 2\n",
      "units_0: 32\n",
      "units_1: 256\n",
      "learning_rate: 0.01\n",
      "units_2: 256\n",
      "units_3: 32\n",
      "Score: 0.39427730441093445\n",
      "Trial summary\n",
      "Hyperparameters:\n",
      "layers: 2\n",
      "units_0: 32\n",
      "units_1: 64\n",
      "learning_rate: 0.01\n",
      "units_2: 256\n",
      "units_3: 256\n",
      "Score: 0.394521564245224\n",
      "Trial summary\n",
      "Hyperparameters:\n",
      "layers: 4\n",
      "units_0: 32\n",
      "units_1: 256\n",
      "learning_rate: 0.01\n",
      "units_2: 32\n",
      "units_3: 256\n",
      "Score: 0.39481040835380554\n",
      "Trial summary\n",
      "Hyperparameters:\n",
      "layers: 2\n",
      "units_0: 256\n",
      "units_1: 256\n",
      "learning_rate: 0.0001\n",
      "Score: 0.39765846729278564\n"
     ]
    }
   ],
   "source": [
    "bayesian_opt_tuner.results_summary()"
   ]
  },
  {
   "cell_type": "code",
   "execution_count": null,
   "metadata": {
    "id": "KJHZtfM0oB7s"
   },
   "outputs": [],
   "source": [
    "# 2nd tune"
   ]
  },
  {
   "cell_type": "code",
   "execution_count": null,
   "metadata": {
    "id": "LcgS-yDHoB7s"
   },
   "outputs": [],
   "source": [
    "def build_tuning_model_2(hp):\n",
    "    \n",
    "    inputs = {}\n",
    "    for x in range(0, X_cleaned.shape[1]):\n",
    "        inputs[\"input_{0}\".format(x)] = Input(shape=(1,))\n",
    "        \n",
    "    inputs_embedded = {}\n",
    "    for x in range(0, X_cleaned.shape[1]):\n",
    "        inputs_embedded[\"inputs_embedded_{0}\".format(x)] = Embedding(input_dim=max(X_cleaned.iloc[:,x])+1,\n",
    "                                                                     output_dim=math.ceil(math.sqrt(max(X_cleaned.iloc[:,x]))))\\\n",
    "                                                          (inputs[\"input_{0}\".format(x)])\n",
    "        inputs_embedded[\"inputs_embedded_{0}\".format(x)] = Flatten()(inputs_embedded[\"inputs_embedded_{0}\".format(x)])\n",
    "    \n",
    "    x = concatenate(list(inputs_embedded.values()))\n",
    "    \n",
    "    for i in range(hp.Int('layers',1,4)):\n",
    "        x = Dense(units = hp.Choice('units_'+str(i),[32,64,128,256]), \n",
    "                  activation=hp.Choice('activation_'+str(i),['relu','sigmoid','tanh']),\n",
    "                  kernel_initializer=initializers.RandomNormal(stddev=0.01))(x)\n",
    "    \n",
    "    output = Dense(1, activation='sigmoid',kernel_initializer=initializers.RandomNormal(stddev=0.01))(x)\n",
    "    \n",
    "    model = Model(inputs=list(inputs.values()), outputs=[output])\n",
    "    \n",
    "    model.compile(loss='binary_crossentropy', optimizer=Adam(hp.Choice('learning_rate', [1e-2,1e-3,1e-4])))\n",
    "   \n",
    "    return model"
   ]
  },
  {
   "cell_type": "code",
   "execution_count": null,
   "metadata": {
    "id": "E47uWmhSoB7s"
   },
   "outputs": [],
   "source": [
    "bayesian_opt_tuner2 = BayesianOptimization(\n",
    "    build_tuning_model_2,\n",
    "    objective='val_loss',\n",
    "    max_trials=15,\n",
    "    executions_per_trial=1,\n",
    "overwrite = True)"
   ]
  },
  {
   "cell_type": "code",
   "execution_count": null,
   "metadata": {
    "id": "6d5d56wqoB7s",
    "outputId": "154b10a0-4439-40f5-e8e4-5ee336b2f6dd"
   },
   "outputs": [
    {
     "name": "stdout",
     "output_type": "stream",
     "text": [
      "Trial 15 Complete [00h 03m 12s]\n",
      "val_loss: 0.3945039212703705\n",
      "\n",
      "Best val_loss So Far: 0.3937508165836334\n",
      "Total elapsed time: 00h 46m 39s\n",
      "INFO:tensorflow:Oracle triggered exit\n"
     ]
    }
   ],
   "source": [
    "bayesian_opt_tuner2.search(X_sample_list, y_train_sample, epochs=4, batch_size=4096 ,\n",
    "                          validation_data=(X_test_sample_list, y_test_sample), \n",
    "             shuffle=True, verbose=1)"
   ]
  },
  {
   "cell_type": "code",
   "execution_count": null,
   "metadata": {
    "id": "EzVI4Ed6oB7s",
    "outputId": "05908797-c87c-45d1-af86-835369b35a41"
   },
   "outputs": [
    {
     "name": "stdout",
     "output_type": "stream",
     "text": [
      "Results summary\n",
      "Results in .\\untitled_project\n",
      "Showing 10 best trials\n",
      "Objective(name='val_loss', direction='min')\n",
      "Trial summary\n",
      "Hyperparameters:\n",
      "layers: 3\n",
      "units_0: 256\n",
      "activation_0: relu\n",
      "learning_rate: 0.01\n",
      "units_1: 32\n",
      "activation_1: relu\n",
      "units_2: 32\n",
      "activation_2: relu\n",
      "units_3: 64\n",
      "activation_3: relu\n",
      "Score: 0.3937508165836334\n",
      "Trial summary\n",
      "Hyperparameters:\n",
      "layers: 4\n",
      "units_0: 256\n",
      "activation_0: relu\n",
      "learning_rate: 0.01\n",
      "units_1: 32\n",
      "activation_1: relu\n",
      "units_2: 32\n",
      "activation_2: relu\n",
      "units_3: 32\n",
      "activation_3: tanh\n",
      "Score: 0.3939097821712494\n",
      "Trial summary\n",
      "Hyperparameters:\n",
      "layers: 3\n",
      "units_0: 32\n",
      "activation_0: relu\n",
      "learning_rate: 0.01\n",
      "units_1: 32\n",
      "activation_1: relu\n",
      "units_2: 32\n",
      "activation_2: relu\n",
      "Score: 0.3940255343914032\n",
      "Trial summary\n",
      "Hyperparameters:\n",
      "layers: 1\n",
      "units_0: 256\n",
      "activation_0: sigmoid\n",
      "learning_rate: 0.01\n",
      "Score: 0.3944421410560608\n",
      "Trial summary\n",
      "Hyperparameters:\n",
      "layers: 4\n",
      "units_0: 128\n",
      "activation_0: tanh\n",
      "learning_rate: 0.01\n",
      "units_1: 32\n",
      "activation_1: relu\n",
      "units_2: 32\n",
      "activation_2: relu\n",
      "units_3: 32\n",
      "activation_3: relu\n",
      "Score: 0.39448031783103943\n",
      "Trial summary\n",
      "Hyperparameters:\n",
      "layers: 1\n",
      "units_0: 256\n",
      "activation_0: relu\n",
      "learning_rate: 0.01\n",
      "units_1: 32\n",
      "activation_1: relu\n",
      "units_2: 32\n",
      "activation_2: relu\n",
      "units_3: 128\n",
      "activation_3: tanh\n",
      "Score: 0.3945039212703705\n",
      "Trial summary\n",
      "Hyperparameters:\n",
      "layers: 3\n",
      "units_0: 64\n",
      "activation_0: sigmoid\n",
      "learning_rate: 0.01\n",
      "units_1: 32\n",
      "activation_1: relu\n",
      "units_2: 32\n",
      "activation_2: relu\n",
      "units_3: 256\n",
      "activation_3: tanh\n",
      "Score: 0.39462995529174805\n",
      "Trial summary\n",
      "Hyperparameters:\n",
      "layers: 1\n",
      "units_0: 64\n",
      "activation_0: relu\n",
      "learning_rate: 0.01\n",
      "units_1: 32\n",
      "activation_1: relu\n",
      "units_2: 32\n",
      "activation_2: relu\n",
      "units_3: 256\n",
      "activation_3: relu\n",
      "Score: 0.3946819603443146\n",
      "Trial summary\n",
      "Hyperparameters:\n",
      "layers: 1\n",
      "units_0: 32\n",
      "activation_0: relu\n",
      "learning_rate: 0.01\n",
      "units_1: 32\n",
      "activation_1: relu\n",
      "units_2: 32\n",
      "activation_2: relu\n",
      "units_3: 32\n",
      "activation_3: tanh\n",
      "Score: 0.3947448432445526\n",
      "Trial summary\n",
      "Hyperparameters:\n",
      "layers: 3\n",
      "units_0: 128\n",
      "activation_0: relu\n",
      "learning_rate: 0.01\n",
      "units_1: 32\n",
      "activation_1: tanh\n",
      "units_2: 32\n",
      "activation_2: relu\n",
      "units_3: 32\n",
      "activation_3: tanh\n",
      "Score: 0.39488083124160767\n"
     ]
    }
   ],
   "source": [
    "bayesian_opt_tuner2.results_summary()"
   ]
  },
  {
   "cell_type": "code",
   "execution_count": null,
   "metadata": {
    "id": "wDG9NVKPoB7t"
   },
   "outputs": [],
   "source": [
    "# 3rd tune"
   ]
  },
  {
   "cell_type": "code",
   "execution_count": null,
   "metadata": {
    "id": "U05Kvi6eoB7t"
   },
   "outputs": [],
   "source": [
    "def build_tuning_model_3(hp):\n",
    "    \n",
    "    inputs = {}\n",
    "    for x in range(0, X_cleaned.shape[1]):\n",
    "        inputs[\"input_{0}\".format(x)] = Input(shape=(1,))\n",
    "        \n",
    "    inputs_embedded = {}\n",
    "    for x in range(0, X_cleaned.shape[1]):\n",
    "        inputs_embedded[\"inputs_embedded_{0}\".format(x)] = Embedding(input_dim=max(X_cleaned.iloc[:,x])+1,\n",
    "                                                                     output_dim=math.ceil(math.sqrt(max(X_cleaned.iloc[:,x]))))\\\n",
    "                                                          (inputs[\"input_{0}\".format(x)])\n",
    "        inputs_embedded[\"inputs_embedded_{0}\".format(x)] = Flatten()(inputs_embedded[\"inputs_embedded_{0}\".format(x)])\n",
    "    \n",
    "    x = concatenate(list(inputs_embedded.values()))\n",
    "    \n",
    "    x = Dense(units = hp.Choice('units_1',[32,64,128,256]), \n",
    "                  activation=hp.Choice('activation_1',['relu','sigmoid','tanh']),\n",
    "                  kernel_initializer=initializers.RandomNormal(stddev=0.01))(x)\n",
    "    \n",
    "    x = Dense(units = hp.Choice('units_2',[32,64,128,256]), \n",
    "                  activation=hp.Choice('activation_2',['relu','sigmoid','tanh']),\n",
    "                  kernel_initializer=initializers.RandomNormal(stddev=0.01))(x)\n",
    "    \n",
    "    output = Dense(1, activation='sigmoid',kernel_initializer=initializers.RandomNormal(stddev=0.01))(x)\n",
    "    \n",
    "    model = Model(inputs=list(inputs.values()), outputs=[output])\n",
    "    \n",
    "    model.compile(loss='binary_crossentropy', optimizer=Adam(hp.Choice('learning_rate', [1e-3])))\n",
    "   \n",
    "    return model"
   ]
  },
  {
   "cell_type": "code",
   "execution_count": null,
   "metadata": {
    "id": "QZzKC2MUoB7t"
   },
   "outputs": [],
   "source": [
    "bayesian_opt_tuner3 = BayesianOptimization(\n",
    "    build_tuning_model_3,\n",
    "    objective='val_loss',\n",
    "    max_trials=6,\n",
    "    executions_per_trial=1,\n",
    "overwrite = True)"
   ]
  },
  {
   "cell_type": "code",
   "execution_count": null,
   "metadata": {
    "id": "1sjOaWggoB7t",
    "outputId": "132f7559-348c-4795-f268-e9d6cd103e84"
   },
   "outputs": [
    {
     "name": "stdout",
     "output_type": "stream",
     "text": [
      "Trial 5 Complete [00h 12m 52s]\n",
      "val_loss: 0.3929181396961212\n",
      "\n",
      "Best val_loss So Far: 0.3929181396961212\n",
      "Total elapsed time: 00h 49m 53s\n",
      "\n",
      "Search: Running Trial #6\n",
      "\n",
      "Hyperparameter    |Value             |Best Value So Far \n",
      "units_1           |256               |256               \n",
      "activation_1      |relu              |relu              \n",
      "units_2           |128               |256               \n",
      "activation_2      |relu              |relu              \n",
      "learning_rate     |0.001             |0.001             \n",
      "\n",
      "Epoch 1/6\n",
      "8748/8748 [==============================] - 104s 12ms/step - loss: 0.4002 - val_loss: 0.3964\n",
      "Epoch 2/6\n",
      "8748/8748 [==============================] - 101s 12ms/step - loss: 0.3951 - val_loss: 0.3943\n",
      "Epoch 3/6\n",
      "7056/8748 [=======================>......] - ETA: 7s - loss: 0.3930"
     ]
    }
   ],
   "source": [
    "bayesian_opt_tuner3.search(X_sample_list, y_train_sample, epochs=6, batch_size=512 ,\n",
    "                          validation_data=(X_test_sample_list, y_test_sample), \n",
    "             shuffle=True, verbose=1)"
   ]
  },
  {
   "cell_type": "code",
   "execution_count": null,
   "metadata": {},
   "outputs": [],
   "source": [
    "# not very clear after this tuning, so next try different layers one by one"
   ]
  },
  {
   "cell_type": "markdown",
   "metadata": {
    "id": "IUra251AD3HC"
   },
   "source": [
    "## 1-Layer NN"
   ]
  },
  {
   "cell_type": "code",
   "execution_count": null,
   "metadata": {
    "id": "KXL8LvRuD3HC"
   },
   "outputs": [],
   "source": [
    "def build_embedded_model_1_layer(train_data):\n",
    "    \n",
    "    inputs = {}\n",
    "    for x in range(0, train_data.shape[1]):\n",
    "        inputs[\"input_{0}\".format(x)] = Input(shape=(1,))\n",
    "        \n",
    "    inputs_embedded = {}\n",
    "    for x in range(0, train_data.shape[1]):\n",
    "        inputs_embedded[\"inputs_embedded_{0}\".format(x)] = Embedding(input_dim=max(train_data.iloc[:,x])+1,\n",
    "                                                                     output_dim=math.ceil(math.sqrt(len(train_data.iloc[:,x].value_counts()))))\\\n",
    "                                                          (inputs[\"input_{0}\".format(x)])\n",
    "                                                                     \n",
    "        inputs_embedded[\"inputs_embedded_{0}\".format(x)] = Flatten()(inputs_embedded[\"inputs_embedded_{0}\".format(x)])\n",
    "    \n",
    "    merged_layer = concatenate(list(inputs_embedded.values()))\n",
    "    \n",
    "    x = Dense(units = 512, activation='relu',\n",
    "              kernel_initializer=initializers.RandomNormal(stddev=0.01),\n",
    "              kernel_regularizer=regularizers.l2(0.001))(merged_layer)\n",
    "    \n",
    "    output = Dense(1, activation='sigmoid',kernel_initializer=initializers.RandomNormal(stddev=0.01))(x)\n",
    "    \n",
    "    model = Model(inputs=list(inputs.values()), outputs=[output])\n",
    "    \n",
    "    model.compile(loss='binary_crossentropy', optimizer=Adam(learning_rate=1e-3))\n",
    "   \n",
    "    return model"
   ]
  },
  {
   "cell_type": "code",
   "execution_count": null,
   "metadata": {
    "id": "jsHvq9fSD3HC"
   },
   "outputs": [],
   "source": [
    "build_embedded_model_1_layer = build_embedded_model_1_layer(X_train)"
   ]
  },
  {
   "cell_type": "code",
   "execution_count": null,
   "metadata": {
    "id": "zlog14KgD3HC",
    "outputId": "9658d695-b977-403a-abbe-d4b99bedfc16"
   },
   "outputs": [
    {
     "name": "stdout",
     "output_type": "stream",
     "text": [
      "Epoch 1/3\n",
      "8748/8748 [==============================] - 144s 16ms/step - loss: 0.4054 - val_loss: 0.4025\n",
      "Epoch 2/3\n",
      "8748/8748 [==============================] - 132s 15ms/step - loss: 0.4010 - val_loss: 0.4011\n",
      "Epoch 3/3\n",
      "8748/8748 [==============================] - 134s 15ms/step - loss: 0.3999 - val_loss: 0.4007\n"
     ]
    },
    {
     "data": {
      "text/plain": [
       "<keras.callbacks.History at 0x21401f951f0>"
      ]
     },
     "execution_count": 18,
     "metadata": {},
     "output_type": "execute_result"
    }
   ],
   "source": [
    "# regularizer, 512 batch, 512 neuron\n",
    "build_embedded_model_1_layer.fit(X_sample_list, y_train_sample, epochs=3, batch_size=512, validation_data=(X_test_sample_list, y_test_sample), \n",
    "                                 shuffle=False, verbose=1)"
   ]
  },
  {
   "cell_type": "code",
   "execution_count": null,
   "metadata": {
    "id": "2ln2dSKoD3HD",
    "outputId": "fd1c3953-85d6-4ccc-c32a-41eb7097d37f"
   },
   "outputs": [
    {
     "name": "stdout",
     "output_type": "stream",
     "text": [
      "Epoch 1/3\n",
      "2187/2187 [==============================] - 81s 37ms/step - loss: 0.3988 - val_loss: 0.4000\n",
      "Epoch 2/3\n",
      "2187/2187 [==============================] - 74s 34ms/step - loss: 0.3985 - val_loss: 0.3999\n",
      "Epoch 3/3\n",
      "2187/2187 [==============================] - 79s 36ms/step - loss: 0.3981 - val_loss: 0.3997\n"
     ]
    },
    {
     "data": {
      "text/plain": [
       "<keras.callbacks.History at 0x214020d57f0>"
      ]
     },
     "execution_count": 20,
     "metadata": {},
     "output_type": "execute_result"
    }
   ],
   "source": [
    "# regularizer, 2048 batch, 512 neuron\n",
    "build_embedded_model_1_layer.fit(X_sample_list, y_train_sample, epochs=3, batch_size=2048, validation_data=(X_test_sample_list, y_test_sample), \n",
    "                                 shuffle=False, verbose=1)"
   ]
  },
  {
   "cell_type": "code",
   "execution_count": null,
   "metadata": {
    "id": "4pSSj7ogD3HG",
    "outputId": "59f3f56b-e6a1-4051-95f4-751542708b42"
   },
   "outputs": [
    {
     "name": "stdout",
     "output_type": "stream",
     "text": [
      "Epoch 1/3\n",
      "17496/17496 [==============================] - 210s 12ms/step - loss: 0.3989 - val_loss: 0.4002\n",
      "Epoch 2/3\n",
      "17496/17496 [==============================] - 200s 11ms/step - loss: 0.3979 - val_loss: 0.4001\n",
      "Epoch 3/3\n",
      "17496/17496 [==============================] - 202s 12ms/step - loss: 0.3973 - val_loss: 0.4001\n"
     ]
    },
    {
     "data": {
      "text/plain": [
       "<keras.callbacks.History at 0x21404887d30>"
      ]
     },
     "execution_count": 21,
     "metadata": {},
     "output_type": "execute_result"
    }
   ],
   "source": [
    "# regularizer, 256 batch, 512 neuron\n",
    "build_embedded_model_1_layer.fit(X_sample_list, y_train_sample, epochs=3, batch_size=256, validation_data=(X_test_sample_list, y_test_sample), \n",
    "                                 shuffle=False, verbose=1)"
   ]
  },
  {
   "cell_type": "code",
   "execution_count": null,
   "metadata": {
    "id": "zFSTi1EoD3HH",
    "outputId": "8bbd0ed0-5000-4c62-a939-4eb4e3a73267"
   },
   "outputs": [
    {
     "name": "stdout",
     "output_type": "stream",
     "text": [
      "Epoch 1/3\n",
      "5468/5468 [==============================] - 169s 31ms/step - loss: 0.3970 - val_loss: 0.3967\n",
      "Epoch 2/3\n",
      "5468/5468 [==============================] - 165s 30ms/step - loss: 0.3965 - val_loss: 0.3963\n",
      "Epoch 3/3\n",
      "5468/5468 [==============================] - 167s 31ms/step - loss: 0.3961 - val_loss: 0.3961\n"
     ]
    },
    {
     "data": {
      "text/plain": [
       "<keras.callbacks.History at 0x21402655c70>"
      ]
     },
     "execution_count": 22,
     "metadata": {},
     "output_type": "execute_result"
    }
   ],
   "source": [
    "# regularizer, 4096 batch, 512 neuron\n",
    "build_embedded_model_1_layer.fit(X_list, y_train, epochs=3, batch_size=4096, validation_data=(X_test_list, y_test), \n",
    "                                 shuffle=False, verbose=1)"
   ]
  },
  {
   "cell_type": "markdown",
   "metadata": {
    "id": "dOb7SE7WD3HH"
   },
   "source": [
    "## 2-Layer NN"
   ]
  },
  {
   "cell_type": "code",
   "execution_count": null,
   "metadata": {
    "id": "2gBvgJF6D3HH"
   },
   "outputs": [],
   "source": [
    "def build_embedded_model_2_layer(hp):\n",
    "    \n",
    "    inputs = {}\n",
    "    for x in range(0, X_cleaned.shape[1]):\n",
    "        inputs[\"input_{0}\".format(x)] = Input(shape=(1,))\n",
    "        \n",
    "    inputs_embedded = {}\n",
    "    for x in range(0, X_cleaned.shape[1]):\n",
    "        inputs_embedded[\"inputs_embedded_{0}\".format(x)] = Embedding(input_dim=max(X_cleaned.iloc[:,x])+1,\n",
    "                                                                     output_dim=math.ceil(math.sqrt(len(X_cleaned.iloc[:,x].value_counts()))))\\\n",
    "                                                          (inputs[\"input_{0}\".format(x)])\n",
    "                                                                     \n",
    "        inputs_embedded[\"inputs_embedded_{0}\".format(x)] = Flatten()(inputs_embedded[\"inputs_embedded_{0}\".format(x)])\n",
    "    \n",
    "    merged_layer = concatenate(list(inputs_embedded.values()))\n",
    "    \n",
    "    x = Dense(units = 512, activation='relu',kernel_initializer=initializers.RandomNormal(stddev=0.01))(merged_layer)\n",
    "    \n",
    "    #kernel_regularizer=regularizers.l2(0.001)\n",
    "    \n",
    "    x = Dense(units = 512, activation='relu',kernel_initializer=initializers.RandomNormal(stddev=0.01))(x)\n",
    "    \n",
    "    output = Dense(1, activation='sigmoid',kernel_initializer=initializers.RandomNormal(stddev=0.01))(x)\n",
    "    \n",
    "    model = Model(inputs=list(inputs.values()), outputs=[output])\n",
    "    \n",
    "    model.compile(loss='binary_crossentropy', optimizer=Adam(learning_rate=1e-3))\n",
    "   \n",
    "    return model"
   ]
  },
  {
   "cell_type": "code",
   "execution_count": null,
   "metadata": {
    "id": "wWSigX9OD3HH"
   },
   "outputs": [],
   "source": [
    "build_embedded_model_2_layer = build_embedded_model_2_layer('')"
   ]
  },
  {
   "cell_type": "code",
   "execution_count": null,
   "metadata": {
    "id": "FpAWz167D3HH",
    "outputId": "164fb0de-c5b8-41a2-871f-45ee2803330e"
   },
   "outputs": [
    {
     "name": "stdout",
     "output_type": "stream",
     "text": [
      "Epoch 1/7\n",
      "43738/43738 [==============================] - 354s 8ms/step - loss: 0.3947 - val_loss: 0.3918\n",
      "Epoch 2/7\n",
      "43738/43738 [==============================] - 349s 8ms/step - loss: 0.3911 - val_loss: 0.3906\n",
      "Epoch 3/7\n",
      "43738/43738 [==============================] - 349s 8ms/step - loss: 0.3899 - val_loss: 0.3901\n",
      "Epoch 4/7\n",
      "43738/43738 [==============================] - 349s 8ms/step - loss: 0.3891 - val_loss: 0.3899\n",
      "Epoch 5/7\n",
      "43738/43738 [==============================] - 349s 8ms/step - loss: 0.3885 - val_loss: 0.3897\n",
      "Epoch 6/7\n",
      "43738/43738 [==============================] - 351s 8ms/step - loss: 0.3880 - val_loss: 0.3897\n",
      "Epoch 7/7\n",
      "43738/43738 [==============================] - 350s 8ms/step - loss: 0.3876 - val_loss: 0.3897\n"
     ]
    },
    {
     "data": {
      "text/plain": [
       "<keras.callbacks.History at 0x214f692a610>"
      ]
     },
     "execution_count": 61,
     "metadata": {},
     "output_type": "execute_result"
    }
   ],
   "source": [
    "# 512+512\n",
    "build_embedded_model_2_layer.fit(X_list, y_train, epochs=7, batch_size=512, validation_data=(X_test_list, y_test), \n",
    "                                 shuffle=False, verbose=1)"
   ]
  },
  {
   "cell_type": "code",
   "execution_count": null,
   "metadata": {
    "id": "zSSH_rAND3HI",
    "outputId": "06ccffcd-0159-4e6b-d9c2-7f0c2a9df48d"
   },
   "outputs": [
    {
     "name": "stdout",
     "output_type": "stream",
     "text": [
      "Epoch 1/5\n",
      "5468/5468 [==============================] - 189s 35ms/step - loss: 0.3848 - val_loss: 0.3898\n",
      "Epoch 2/5\n",
      "5468/5468 [==============================] - 191s 35ms/step - loss: 0.3846 - val_loss: 0.3898\n",
      "Epoch 3/5\n",
      "5468/5468 [==============================] - 191s 35ms/step - loss: 0.3844 - val_loss: 0.3900\n",
      "Epoch 4/5\n",
      "5468/5468 [==============================] - 191s 35ms/step - loss: 0.3843 - val_loss: 0.3901\n",
      "Epoch 5/5\n",
      "5468/5468 [==============================] - 191s 35ms/step - loss: 0.3841 - val_loss: 0.3903\n"
     ]
    },
    {
     "data": {
      "text/plain": [
       "<keras.callbacks.History at 0x214f26b6c40>"
      ]
     },
     "execution_count": 64,
     "metadata": {},
     "output_type": "execute_result"
    }
   ],
   "source": [
    "# 512+512\n",
    "build_embedded_model_2_layer.fit(X_list, y_train, epochs=5, batch_size=4096, validation_data=(X_test_list, y_test), \n",
    "                                 shuffle=False, verbose=1)"
   ]
  },
  {
   "cell_type": "code",
   "execution_count": null,
   "metadata": {
    "id": "IMPbYy3KoB7z",
    "outputId": "54352378-ae80-4886-9bf4-adb9435edbb4"
   },
   "outputs": [
    {
     "name": "stdout",
     "output_type": "stream",
     "text": [
      "Epoch 1/8\n",
      "1094/1094 [==============================] - 126s 114ms/step - loss: 0.4034 - val_loss: 0.3966\n",
      "Epoch 2/8\n",
      "1094/1094 [==============================] - 130s 119ms/step - loss: 0.3955 - val_loss: 0.3949\n",
      "Epoch 3/8\n",
      "1094/1094 [==============================] - 128s 117ms/step - loss: 0.3934 - val_loss: 0.3939\n",
      "Epoch 4/8\n",
      "1094/1094 [==============================] - 129s 118ms/step - loss: 0.3920 - val_loss: 0.3937\n",
      "Epoch 5/8\n",
      "1094/1094 [==============================] - 129s 118ms/step - loss: 0.3908 - val_loss: 0.3934\n",
      "Epoch 6/8\n",
      "1094/1094 [==============================] - 129s 118ms/step - loss: 0.3897 - val_loss: 0.3934\n",
      "Epoch 7/8\n",
      "1094/1094 [==============================] - 129s 118ms/step - loss: 0.3887 - val_loss: 0.3937\n",
      "Epoch 8/8\n",
      " 403/1094 [==========>...................] - ETA: 34s - loss: 0.3877"
     ]
    },
    {
     "ename": "KeyboardInterrupt",
     "evalue": "",
     "output_type": "error",
     "traceback": [
      "\u001b[1;31m---------------------------------------------------------------------------\u001b[0m",
      "\u001b[1;31mKeyboardInterrupt\u001b[0m                         Traceback (most recent call last)",
      "\u001b[1;32m~\\AppData\\Local\\Temp/ipykernel_11408/1003472088.py\u001b[0m in \u001b[0;36m<module>\u001b[1;34m\u001b[0m\n\u001b[0;32m      1\u001b[0m \u001b[1;31m# 1024+512 no regularizer ON SAMPLE\u001b[0m\u001b[1;33m\u001b[0m\u001b[1;33m\u001b[0m\u001b[0m\n\u001b[1;32m----> 2\u001b[1;33m build_embedded_model_2_layer.fit(X_sample_list, y_train_sample, epochs=8, batch_size=4096, validation_data=(X_test_sample_list, y_test_sample), \n\u001b[0m\u001b[0;32m      3\u001b[0m                                  shuffle=False, verbose=1)\n",
      "\u001b[1;32m~\\Anaconda3\\lib\\site-packages\\keras\\utils\\traceback_utils.py\u001b[0m in \u001b[0;36merror_handler\u001b[1;34m(*args, **kwargs)\u001b[0m\n\u001b[0;32m     62\u001b[0m     \u001b[0mfiltered_tb\u001b[0m \u001b[1;33m=\u001b[0m \u001b[1;32mNone\u001b[0m\u001b[1;33m\u001b[0m\u001b[1;33m\u001b[0m\u001b[0m\n\u001b[0;32m     63\u001b[0m     \u001b[1;32mtry\u001b[0m\u001b[1;33m:\u001b[0m\u001b[1;33m\u001b[0m\u001b[1;33m\u001b[0m\u001b[0m\n\u001b[1;32m---> 64\u001b[1;33m       \u001b[1;32mreturn\u001b[0m \u001b[0mfn\u001b[0m\u001b[1;33m(\u001b[0m\u001b[1;33m*\u001b[0m\u001b[0margs\u001b[0m\u001b[1;33m,\u001b[0m \u001b[1;33m**\u001b[0m\u001b[0mkwargs\u001b[0m\u001b[1;33m)\u001b[0m\u001b[1;33m\u001b[0m\u001b[1;33m\u001b[0m\u001b[0m\n\u001b[0m\u001b[0;32m     65\u001b[0m     \u001b[1;32mexcept\u001b[0m \u001b[0mException\u001b[0m \u001b[1;32mas\u001b[0m \u001b[0me\u001b[0m\u001b[1;33m:\u001b[0m  \u001b[1;31m# pylint: disable=broad-except\u001b[0m\u001b[1;33m\u001b[0m\u001b[1;33m\u001b[0m\u001b[0m\n\u001b[0;32m     66\u001b[0m       \u001b[0mfiltered_tb\u001b[0m \u001b[1;33m=\u001b[0m \u001b[0m_process_traceback_frames\u001b[0m\u001b[1;33m(\u001b[0m\u001b[0me\u001b[0m\u001b[1;33m.\u001b[0m\u001b[0m__traceback__\u001b[0m\u001b[1;33m)\u001b[0m\u001b[1;33m\u001b[0m\u001b[1;33m\u001b[0m\u001b[0m\n",
      "\u001b[1;32m~\\Anaconda3\\lib\\site-packages\\keras\\engine\\training.py\u001b[0m in \u001b[0;36mfit\u001b[1;34m(self, x, y, batch_size, epochs, verbose, callbacks, validation_split, validation_data, shuffle, class_weight, sample_weight, initial_epoch, steps_per_epoch, validation_steps, validation_batch_size, validation_freq, max_queue_size, workers, use_multiprocessing)\u001b[0m\n\u001b[0;32m   1214\u001b[0m                 _r=1):\n\u001b[0;32m   1215\u001b[0m               \u001b[0mcallbacks\u001b[0m\u001b[1;33m.\u001b[0m\u001b[0mon_train_batch_begin\u001b[0m\u001b[1;33m(\u001b[0m\u001b[0mstep\u001b[0m\u001b[1;33m)\u001b[0m\u001b[1;33m\u001b[0m\u001b[1;33m\u001b[0m\u001b[0m\n\u001b[1;32m-> 1216\u001b[1;33m               \u001b[0mtmp_logs\u001b[0m \u001b[1;33m=\u001b[0m \u001b[0mself\u001b[0m\u001b[1;33m.\u001b[0m\u001b[0mtrain_function\u001b[0m\u001b[1;33m(\u001b[0m\u001b[0miterator\u001b[0m\u001b[1;33m)\u001b[0m\u001b[1;33m\u001b[0m\u001b[1;33m\u001b[0m\u001b[0m\n\u001b[0m\u001b[0;32m   1217\u001b[0m               \u001b[1;32mif\u001b[0m \u001b[0mdata_handler\u001b[0m\u001b[1;33m.\u001b[0m\u001b[0mshould_sync\u001b[0m\u001b[1;33m:\u001b[0m\u001b[1;33m\u001b[0m\u001b[1;33m\u001b[0m\u001b[0m\n\u001b[0;32m   1218\u001b[0m                 \u001b[0mcontext\u001b[0m\u001b[1;33m.\u001b[0m\u001b[0masync_wait\u001b[0m\u001b[1;33m(\u001b[0m\u001b[1;33m)\u001b[0m\u001b[1;33m\u001b[0m\u001b[1;33m\u001b[0m\u001b[0m\n",
      "\u001b[1;32m~\\Anaconda3\\lib\\site-packages\\tensorflow\\python\\util\\traceback_utils.py\u001b[0m in \u001b[0;36merror_handler\u001b[1;34m(*args, **kwargs)\u001b[0m\n\u001b[0;32m    148\u001b[0m     \u001b[0mfiltered_tb\u001b[0m \u001b[1;33m=\u001b[0m \u001b[1;32mNone\u001b[0m\u001b[1;33m\u001b[0m\u001b[1;33m\u001b[0m\u001b[0m\n\u001b[0;32m    149\u001b[0m     \u001b[1;32mtry\u001b[0m\u001b[1;33m:\u001b[0m\u001b[1;33m\u001b[0m\u001b[1;33m\u001b[0m\u001b[0m\n\u001b[1;32m--> 150\u001b[1;33m       \u001b[1;32mreturn\u001b[0m \u001b[0mfn\u001b[0m\u001b[1;33m(\u001b[0m\u001b[1;33m*\u001b[0m\u001b[0margs\u001b[0m\u001b[1;33m,\u001b[0m \u001b[1;33m**\u001b[0m\u001b[0mkwargs\u001b[0m\u001b[1;33m)\u001b[0m\u001b[1;33m\u001b[0m\u001b[1;33m\u001b[0m\u001b[0m\n\u001b[0m\u001b[0;32m    151\u001b[0m     \u001b[1;32mexcept\u001b[0m \u001b[0mException\u001b[0m \u001b[1;32mas\u001b[0m \u001b[0me\u001b[0m\u001b[1;33m:\u001b[0m\u001b[1;33m\u001b[0m\u001b[1;33m\u001b[0m\u001b[0m\n\u001b[0;32m    152\u001b[0m       \u001b[0mfiltered_tb\u001b[0m \u001b[1;33m=\u001b[0m \u001b[0m_process_traceback_frames\u001b[0m\u001b[1;33m(\u001b[0m\u001b[0me\u001b[0m\u001b[1;33m.\u001b[0m\u001b[0m__traceback__\u001b[0m\u001b[1;33m)\u001b[0m\u001b[1;33m\u001b[0m\u001b[1;33m\u001b[0m\u001b[0m\n",
      "\u001b[1;32m~\\Anaconda3\\lib\\site-packages\\tensorflow\\python\\eager\\def_function.py\u001b[0m in \u001b[0;36m__call__\u001b[1;34m(self, *args, **kwds)\u001b[0m\n\u001b[0;32m    908\u001b[0m \u001b[1;33m\u001b[0m\u001b[0m\n\u001b[0;32m    909\u001b[0m       \u001b[1;32mwith\u001b[0m \u001b[0mOptionalXlaContext\u001b[0m\u001b[1;33m(\u001b[0m\u001b[0mself\u001b[0m\u001b[1;33m.\u001b[0m\u001b[0m_jit_compile\u001b[0m\u001b[1;33m)\u001b[0m\u001b[1;33m:\u001b[0m\u001b[1;33m\u001b[0m\u001b[1;33m\u001b[0m\u001b[0m\n\u001b[1;32m--> 910\u001b[1;33m         \u001b[0mresult\u001b[0m \u001b[1;33m=\u001b[0m \u001b[0mself\u001b[0m\u001b[1;33m.\u001b[0m\u001b[0m_call\u001b[0m\u001b[1;33m(\u001b[0m\u001b[1;33m*\u001b[0m\u001b[0margs\u001b[0m\u001b[1;33m,\u001b[0m \u001b[1;33m**\u001b[0m\u001b[0mkwds\u001b[0m\u001b[1;33m)\u001b[0m\u001b[1;33m\u001b[0m\u001b[1;33m\u001b[0m\u001b[0m\n\u001b[0m\u001b[0;32m    911\u001b[0m \u001b[1;33m\u001b[0m\u001b[0m\n\u001b[0;32m    912\u001b[0m       \u001b[0mnew_tracing_count\u001b[0m \u001b[1;33m=\u001b[0m \u001b[0mself\u001b[0m\u001b[1;33m.\u001b[0m\u001b[0mexperimental_get_tracing_count\u001b[0m\u001b[1;33m(\u001b[0m\u001b[1;33m)\u001b[0m\u001b[1;33m\u001b[0m\u001b[1;33m\u001b[0m\u001b[0m\n",
      "\u001b[1;32m~\\Anaconda3\\lib\\site-packages\\tensorflow\\python\\eager\\def_function.py\u001b[0m in \u001b[0;36m_call\u001b[1;34m(self, *args, **kwds)\u001b[0m\n\u001b[0;32m    940\u001b[0m       \u001b[1;31m# In this case we have created variables on the first call, so we run the\u001b[0m\u001b[1;33m\u001b[0m\u001b[1;33m\u001b[0m\u001b[0m\n\u001b[0;32m    941\u001b[0m       \u001b[1;31m# defunned version which is guaranteed to never create variables.\u001b[0m\u001b[1;33m\u001b[0m\u001b[1;33m\u001b[0m\u001b[0m\n\u001b[1;32m--> 942\u001b[1;33m       \u001b[1;32mreturn\u001b[0m \u001b[0mself\u001b[0m\u001b[1;33m.\u001b[0m\u001b[0m_stateless_fn\u001b[0m\u001b[1;33m(\u001b[0m\u001b[1;33m*\u001b[0m\u001b[0margs\u001b[0m\u001b[1;33m,\u001b[0m \u001b[1;33m**\u001b[0m\u001b[0mkwds\u001b[0m\u001b[1;33m)\u001b[0m  \u001b[1;31m# pylint: disable=not-callable\u001b[0m\u001b[1;33m\u001b[0m\u001b[1;33m\u001b[0m\u001b[0m\n\u001b[0m\u001b[0;32m    943\u001b[0m     \u001b[1;32melif\u001b[0m \u001b[0mself\u001b[0m\u001b[1;33m.\u001b[0m\u001b[0m_stateful_fn\u001b[0m \u001b[1;32mis\u001b[0m \u001b[1;32mnot\u001b[0m \u001b[1;32mNone\u001b[0m\u001b[1;33m:\u001b[0m\u001b[1;33m\u001b[0m\u001b[1;33m\u001b[0m\u001b[0m\n\u001b[0;32m    944\u001b[0m       \u001b[1;31m# Release the lock early so that multiple threads can perform the call\u001b[0m\u001b[1;33m\u001b[0m\u001b[1;33m\u001b[0m\u001b[0m\n",
      "\u001b[1;32m~\\Anaconda3\\lib\\site-packages\\tensorflow\\python\\eager\\function.py\u001b[0m in \u001b[0;36m__call__\u001b[1;34m(self, *args, **kwargs)\u001b[0m\n\u001b[0;32m   3128\u001b[0m       (graph_function,\n\u001b[0;32m   3129\u001b[0m        filtered_flat_args) = self._maybe_define_function(args, kwargs)\n\u001b[1;32m-> 3130\u001b[1;33m     return graph_function._call_flat(\n\u001b[0m\u001b[0;32m   3131\u001b[0m         filtered_flat_args, captured_inputs=graph_function.captured_inputs)  # pylint: disable=protected-access\n\u001b[0;32m   3132\u001b[0m \u001b[1;33m\u001b[0m\u001b[0m\n",
      "\u001b[1;32m~\\Anaconda3\\lib\\site-packages\\tensorflow\\python\\eager\\function.py\u001b[0m in \u001b[0;36m_call_flat\u001b[1;34m(self, args, captured_inputs, cancellation_manager)\u001b[0m\n\u001b[0;32m   1957\u001b[0m         and executing_eagerly):\n\u001b[0;32m   1958\u001b[0m       \u001b[1;31m# No tape is watching; skip to running the function.\u001b[0m\u001b[1;33m\u001b[0m\u001b[1;33m\u001b[0m\u001b[0m\n\u001b[1;32m-> 1959\u001b[1;33m       return self._build_call_outputs(self._inference_function.call(\n\u001b[0m\u001b[0;32m   1960\u001b[0m           ctx, args, cancellation_manager=cancellation_manager))\n\u001b[0;32m   1961\u001b[0m     forward_backward = self._select_forward_and_backward_functions(\n",
      "\u001b[1;32m~\\Anaconda3\\lib\\site-packages\\tensorflow\\python\\eager\\function.py\u001b[0m in \u001b[0;36mcall\u001b[1;34m(self, ctx, args, cancellation_manager)\u001b[0m\n\u001b[0;32m    596\u001b[0m       \u001b[1;32mwith\u001b[0m \u001b[0m_InterpolateFunctionError\u001b[0m\u001b[1;33m(\u001b[0m\u001b[0mself\u001b[0m\u001b[1;33m)\u001b[0m\u001b[1;33m:\u001b[0m\u001b[1;33m\u001b[0m\u001b[1;33m\u001b[0m\u001b[0m\n\u001b[0;32m    597\u001b[0m         \u001b[1;32mif\u001b[0m \u001b[0mcancellation_manager\u001b[0m \u001b[1;32mis\u001b[0m \u001b[1;32mNone\u001b[0m\u001b[1;33m:\u001b[0m\u001b[1;33m\u001b[0m\u001b[1;33m\u001b[0m\u001b[0m\n\u001b[1;32m--> 598\u001b[1;33m           outputs = execute.execute(\n\u001b[0m\u001b[0;32m    599\u001b[0m               \u001b[0mstr\u001b[0m\u001b[1;33m(\u001b[0m\u001b[0mself\u001b[0m\u001b[1;33m.\u001b[0m\u001b[0msignature\u001b[0m\u001b[1;33m.\u001b[0m\u001b[0mname\u001b[0m\u001b[1;33m)\u001b[0m\u001b[1;33m,\u001b[0m\u001b[1;33m\u001b[0m\u001b[1;33m\u001b[0m\u001b[0m\n\u001b[0;32m    600\u001b[0m               \u001b[0mnum_outputs\u001b[0m\u001b[1;33m=\u001b[0m\u001b[0mself\u001b[0m\u001b[1;33m.\u001b[0m\u001b[0m_num_outputs\u001b[0m\u001b[1;33m,\u001b[0m\u001b[1;33m\u001b[0m\u001b[1;33m\u001b[0m\u001b[0m\n",
      "\u001b[1;32m~\\Anaconda3\\lib\\site-packages\\tensorflow\\python\\eager\\execute.py\u001b[0m in \u001b[0;36mquick_execute\u001b[1;34m(op_name, num_outputs, inputs, attrs, ctx, name)\u001b[0m\n\u001b[0;32m     56\u001b[0m   \u001b[1;32mtry\u001b[0m\u001b[1;33m:\u001b[0m\u001b[1;33m\u001b[0m\u001b[1;33m\u001b[0m\u001b[0m\n\u001b[0;32m     57\u001b[0m     \u001b[0mctx\u001b[0m\u001b[1;33m.\u001b[0m\u001b[0mensure_initialized\u001b[0m\u001b[1;33m(\u001b[0m\u001b[1;33m)\u001b[0m\u001b[1;33m\u001b[0m\u001b[1;33m\u001b[0m\u001b[0m\n\u001b[1;32m---> 58\u001b[1;33m     tensors = pywrap_tfe.TFE_Py_Execute(ctx._handle, device_name, op_name,\n\u001b[0m\u001b[0;32m     59\u001b[0m                                         inputs, attrs, num_outputs)\n\u001b[0;32m     60\u001b[0m   \u001b[1;32mexcept\u001b[0m \u001b[0mcore\u001b[0m\u001b[1;33m.\u001b[0m\u001b[0m_NotOkStatusException\u001b[0m \u001b[1;32mas\u001b[0m \u001b[0me\u001b[0m\u001b[1;33m:\u001b[0m\u001b[1;33m\u001b[0m\u001b[1;33m\u001b[0m\u001b[0m\n",
      "\u001b[1;31mKeyboardInterrupt\u001b[0m: "
     ]
    }
   ],
   "source": [
    "# 1024+512 no regularizer ON SAMPLE\n",
    "build_embedded_model_2_layer.fit(X_sample_list, y_train_sample, epochs=8, batch_size=4096, validation_data=(X_test_sample_list, y_test_sample), \n",
    "                                 shuffle=False, verbose=1)"
   ]
  },
  {
   "cell_type": "markdown",
   "metadata": {
    "id": "BWa7r2twoB7z"
   },
   "source": [
    "## 3 Layer NN"
   ]
  },
  {
   "cell_type": "code",
   "execution_count": null,
   "metadata": {
    "id": "E_6zPK-KoB70"
   },
   "outputs": [],
   "source": [
    "def build_embedded_model_3_layer(hp):\n",
    "    \n",
    "    inputs = {}\n",
    "    for x in range(0, X_cleaned.shape[1]):\n",
    "        inputs[\"input_{0}\".format(x)] = Input(shape=(1,))\n",
    "        \n",
    "    inputs_embedded = {}\n",
    "    for x in range(0, X_cleaned.shape[1]):\n",
    "        inputs_embedded[\"inputs_embedded_{0}\".format(x)] = Embedding(input_dim=max(X_cleaned.iloc[:,x])+1,\n",
    "                                                                     output_dim=math.ceil(math.sqrt(len(X_cleaned.iloc[:,x].value_counts()))))\\\n",
    "                                                          (inputs[\"input_{0}\".format(x)])\n",
    "                                                                     \n",
    "        inputs_embedded[\"inputs_embedded_{0}\".format(x)] = Flatten()(inputs_embedded[\"inputs_embedded_{0}\".format(x)])\n",
    "    \n",
    "    merged_layer = concatenate(list(inputs_embedded.values()))\n",
    "    \n",
    "    x = Dense(units = 512, activation='relu',kernel_initializer=initializers.RandomNormal(stddev=0.01))(merged_layer)\n",
    "    x = Dense(units = 32, activation='relu',kernel_initializer=initializers.RandomNormal(stddev=0.01))(x)\n",
    "    #kernel_regularizer=regularizers.l2(0.001)\n",
    "    x = Dense(units = 32, activation='relu',kernel_initializer=initializers.RandomNormal(stddev=0.01))(x)\n",
    "    \n",
    "    output = Dense(1, activation='sigmoid',kernel_initializer=initializers.RandomNormal(stddev=0.01))(x)\n",
    "    \n",
    "    model = Model(inputs=list(inputs.values()), outputs=[output])\n",
    "    \n",
    "    model.compile(loss='binary_crossentropy', optimizer=Adam(learning_rate=1e-3))\n",
    "   \n",
    "    return model"
   ]
  },
  {
   "cell_type": "code",
   "execution_count": null,
   "metadata": {
    "id": "CbRS6hHIoB70"
   },
   "outputs": [],
   "source": [
    "build_embedded_model_3_layer = build_embedded_model_3_layer('')"
   ]
  },
  {
   "cell_type": "code",
   "execution_count": null,
   "metadata": {
    "id": "Km2gowWUoB70",
    "outputId": "f776d1bb-1e8a-45c6-815b-b2c5171ca765"
   },
   "outputs": [
    {
     "name": "stdout",
     "output_type": "stream",
     "text": [
      "Epoch 1/7\n",
      "5468/5468 [==============================] - 64s 11ms/step - loss: 0.3982 - val_loss: 0.3932\n",
      "Epoch 2/7\n",
      "5468/5468 [==============================] - 59s 11ms/step - loss: 0.3923 - val_loss: 0.3917\n",
      "Epoch 3/7\n",
      "5468/5468 [==============================] - 60s 11ms/step - loss: 0.3910 - val_loss: 0.3912\n",
      "Epoch 4/7\n",
      "5468/5468 [==============================] - 60s 11ms/step - loss: 0.3901 - val_loss: 0.3907\n",
      "Epoch 5/7\n",
      "5468/5468 [==============================] - 61s 11ms/step - loss: 0.3895 - val_loss: 0.3904\n",
      "Epoch 6/7\n",
      "5468/5468 [==============================] - 60s 11ms/step - loss: 0.3889 - val_loss: 0.3901\n",
      "Epoch 7/7\n",
      "5468/5468 [==============================] - 60s 11ms/step - loss: 0.3884 - val_loss: 0.3899\n"
     ]
    },
    {
     "data": {
      "text/plain": [
       "<keras.callbacks.History at 0x214f2b94760>"
      ]
     },
     "execution_count": 80,
     "metadata": {},
     "output_type": "execute_result"
    }
   ],
   "source": [
    "# 256+32+32 no regularizer ON FULL\n",
    "build_embedded_model_3_layer.fit(X_list, y_train, epochs=7, batch_size=4096, validation_data=(X_test_list, y_test), \n",
    "                                 shuffle=False, verbose=1)"
   ]
  },
  {
   "cell_type": "code",
   "execution_count": null,
   "metadata": {
    "id": "ELjrXqxQoB70",
    "outputId": "487c7ed9-be5d-40e0-af19-4868c80e9b63"
   },
   "outputs": [
    {
     "name": "stdout",
     "output_type": "stream",
     "text": [
      "Epoch 1/9\n",
      "5468/5468 [==============================] - 67s 12ms/step - loss: 0.4092 - val_loss: 0.4045\n",
      "Epoch 2/9\n",
      "5468/5468 [==============================] - 61s 11ms/step - loss: 0.4039 - val_loss: 0.4036\n",
      "Epoch 3/9\n",
      "5468/5468 [==============================] - 61s 11ms/step - loss: 0.4032 - val_loss: 0.4029\n",
      "Epoch 4/9\n",
      "5468/5468 [==============================] - 61s 11ms/step - loss: 0.4028 - val_loss: 0.4025\n",
      "Epoch 5/9\n",
      "5468/5468 [==============================] - 61s 11ms/step - loss: 0.4025 - val_loss: 0.4023\n",
      "Epoch 6/9\n",
      "5468/5468 [==============================] - 61s 11ms/step - loss: 0.4022 - val_loss: 0.4021\n",
      "Epoch 7/9\n",
      "5468/5468 [==============================] - 62s 11ms/step - loss: 0.4021 - val_loss: 0.4020\n",
      "Epoch 8/9\n",
      "5468/5468 [==============================] - 62s 11ms/step - loss: 0.4019 - val_loss: 0.4019\n",
      "Epoch 9/9\n",
      "5468/5468 [==============================] - 61s 11ms/step - loss: 0.4018 - val_loss: 0.4019\n"
     ]
    },
    {
     "data": {
      "text/plain": [
       "<keras.callbacks.History at 0x214ddc0ac40>"
      ]
     },
     "execution_count": 86,
     "metadata": {},
     "output_type": "execute_result"
    }
   ],
   "source": [
    "# 256+32+32 regularizer ON FULL\n",
    "build_embedded_model_3_layer.fit(X_list, y_train, epochs=9, batch_size=4096, validation_data=(X_test_list, y_test), \n",
    "                                 shuffle=False, verbose=1)"
   ]
  },
  {
   "cell_type": "code",
   "execution_count": null,
   "metadata": {
    "id": "n27-qCveoB70",
    "outputId": "ef579142-46fe-4c21-f8af-6980dcfcb20a"
   },
   "outputs": [
    {
     "name": "stdout",
     "output_type": "stream",
     "text": [
      "Epoch 1/9\n",
      "5468/5468 [==============================] - 66s 12ms/step - loss: 0.3977 - val_loss: 0.3931\n",
      "Epoch 2/9\n",
      "5468/5468 [==============================] - 64s 12ms/step - loss: 0.3924 - val_loss: 0.3917\n",
      "Epoch 3/9\n",
      "5468/5468 [==============================] - 64s 12ms/step - loss: 0.3912 - val_loss: 0.3911\n",
      "Epoch 4/9\n",
      "5468/5468 [==============================] - 64s 12ms/step - loss: 0.3903 - val_loss: 0.3909\n",
      "Epoch 5/9\n",
      "5468/5468 [==============================] - 65s 12ms/step - loss: 0.3897 - val_loss: 0.3906\n",
      "Epoch 6/9\n",
      "5468/5468 [==============================] - 64s 12ms/step - loss: 0.3892 - val_loss: 0.3903\n",
      "Epoch 7/9\n",
      "5468/5468 [==============================] - 64s 12ms/step - loss: 0.3887 - val_loss: 0.3902\n",
      "Epoch 8/9\n",
      "5468/5468 [==============================] - 64s 12ms/step - loss: 0.3884 - val_loss: 0.3900\n",
      "Epoch 9/9\n",
      "5468/5468 [==============================] - 64s 12ms/step - loss: 0.3880 - val_loss: 0.3899\n"
     ]
    },
    {
     "data": {
      "text/plain": [
       "<keras.callbacks.History at 0x214e34a66d0>"
      ]
     },
     "execution_count": 89,
     "metadata": {},
     "output_type": "execute_result"
    }
   ],
   "source": [
    "# 128+128+128 regularizer ON FULL\n",
    "build_embedded_model_3_layer.fit(X_list, y_train, epochs=9, batch_size=4096, validation_data=(X_test_list, y_test), \n",
    "                                 shuffle=False, verbose=1)"
   ]
  },
  {
   "cell_type": "code",
   "execution_count": null,
   "metadata": {
    "id": "wxlou3CSoB71",
    "outputId": "57212a35-d5d0-4dc7-9bcf-f0264a25496a"
   },
   "outputs": [
    {
     "name": "stdout",
     "output_type": "stream",
     "text": [
      "Epoch 1/9\n",
      "2187/2187 [==============================] - 32s 14ms/step - loss: 0.4068 - val_loss: 0.3981\n",
      "Epoch 2/9\n",
      "2187/2187 [==============================] - 27s 12ms/step - loss: 0.3966 - val_loss: 0.3962\n",
      "Epoch 3/9\n",
      "2187/2187 [==============================] - 28s 13ms/step - loss: 0.3948 - val_loss: 0.3953\n",
      "Epoch 4/9\n",
      "2187/2187 [==============================] - 29s 13ms/step - loss: 0.3935 - val_loss: 0.3947\n",
      "Epoch 5/9\n",
      "2187/2187 [==============================] - 27s 13ms/step - loss: 0.3926 - val_loss: 0.3944\n",
      "Epoch 6/9\n",
      "2187/2187 [==============================] - 29s 13ms/step - loss: 0.3918 - val_loss: 0.3942\n",
      "Epoch 7/9\n",
      "2187/2187 [==============================] - 28s 13ms/step - loss: 0.3912 - val_loss: 0.3941\n",
      "Epoch 8/9\n",
      "2187/2187 [==============================] - 28s 13ms/step - loss: 0.3907 - val_loss: 0.3939\n",
      "Epoch 9/9\n",
      "2187/2187 [==============================] - 29s 13ms/step - loss: 0.3901 - val_loss: 0.3939\n"
     ]
    },
    {
     "data": {
      "text/plain": [
       "<keras.callbacks.History at 0x214f4b8da60>"
      ]
     },
     "execution_count": 92,
     "metadata": {},
     "output_type": "execute_result"
    }
   ],
   "source": [
    "# 128+32+32 no regularizer ON SAMPLE\n",
    "build_embedded_model_3_layer.fit(X_sample_list, y_train_sample, epochs=9, batch_size=2048, validation_data=(X_test_sample_list, y_test_sample), \n",
    "                                 shuffle=False, verbose=1)"
   ]
  },
  {
   "cell_type": "code",
   "execution_count": null,
   "metadata": {
    "id": "11DdGlfeoB71",
    "outputId": "67dc614e-9f12-449b-ee81-c9878c4e58b3"
   },
   "outputs": [
    {
     "name": "stdout",
     "output_type": "stream",
     "text": [
      "Epoch 1/10\n",
      "2187/2187 [==============================] - 48s 21ms/step - loss: 0.4055 - val_loss: 0.3976\n",
      "Epoch 2/10\n",
      "2187/2187 [==============================] - 46s 21ms/step - loss: 0.3960 - val_loss: 0.3957\n",
      "Epoch 3/10\n",
      "2187/2187 [==============================] - 47s 21ms/step - loss: 0.3941 - val_loss: 0.3948\n",
      "Epoch 4/10\n",
      "2187/2187 [==============================] - 47s 21ms/step - loss: 0.3928 - val_loss: 0.3942\n",
      "Epoch 5/10\n",
      "2187/2187 [==============================] - 47s 21ms/step - loss: 0.3917 - val_loss: 0.3938\n",
      "Epoch 6/10\n",
      "2187/2187 [==============================] - 47s 21ms/step - loss: 0.3908 - val_loss: 0.3936\n",
      "Epoch 7/10\n",
      "2187/2187 [==============================] - 47s 21ms/step - loss: 0.3900 - val_loss: 0.3936\n",
      "Epoch 8/10\n",
      "2187/2187 [==============================] - 47s 21ms/step - loss: 0.3892 - val_loss: 0.3936\n",
      "Epoch 9/10\n",
      "2187/2187 [==============================] - 47s 21ms/step - loss: 0.3884 - val_loss: 0.3937\n",
      "Epoch 10/10\n",
      "2187/2187 [==============================] - 47s 21ms/step - loss: 0.3876 - val_loss: 0.3939\n"
     ]
    },
    {
     "data": {
      "text/plain": [
       "<keras.callbacks.History at 0x214f5286ee0>"
      ]
     },
     "execution_count": 97,
     "metadata": {},
     "output_type": "execute_result"
    }
   ],
   "source": [
    "# 512+32+32 no regularizer ON SAMPLE\n",
    "build_embedded_model_3_layer.fit(X_sample_list, y_train_sample, epochs=10, batch_size=2048, validation_data=(X_test_sample_list, y_test_sample), \n",
    "                                 shuffle=False, verbose=1)"
   ]
  },
  {
   "cell_type": "markdown",
   "metadata": {
    "id": "oPm2DSCDoB71"
   },
   "source": [
    "## 4 Layer"
   ]
  },
  {
   "cell_type": "code",
   "execution_count": null,
   "metadata": {
    "id": "JPkmWdqEoB71"
   },
   "outputs": [],
   "source": [
    "def build_embedded_model_4_layer(hp):\n",
    "    \n",
    "    inputs = {}\n",
    "    for x in range(0, X_cleaned.shape[1]):\n",
    "        inputs[\"input_{0}\".format(x)] = Input(shape=(1,))\n",
    "        \n",
    "    inputs_embedded = {}\n",
    "    for x in range(0, X_cleaned.shape[1]):\n",
    "        inputs_embedded[\"inputs_embedded_{0}\".format(x)] = Embedding(input_dim=max(X_cleaned.iloc[:,x])+1,\n",
    "                                                                     output_dim=math.ceil(math.sqrt(len(X_cleaned.iloc[:,x].value_counts()))))\\\n",
    "                                                          (inputs[\"input_{0}\".format(x)])\n",
    "                                                                     \n",
    "        inputs_embedded[\"inputs_embedded_{0}\".format(x)] = Flatten()(inputs_embedded[\"inputs_embedded_{0}\".format(x)])\n",
    "    \n",
    "    merged_layer = concatenate(list(inputs_embedded.values()))\n",
    "    \n",
    "    x = Dense(units = 64, activation='relu',kernel_initializer=initializers.RandomNormal(stddev=0.01))(merged_layer)\n",
    "    x = Dense(units = 32, activation='relu',kernel_initializer=initializers.RandomNormal(stddev=0.01))(x)\n",
    "    #kernel_regularizer=regularizers.l2(0.001)\n",
    "    x = Dense(units = 32, activation='relu',kernel_initializer=initializers.RandomNormal(stddev=0.01))(x)\n",
    "    x = Dense(units = 32, activation='relu',kernel_initializer=initializers.RandomNormal(stddev=0.01))(x)\n",
    "    \n",
    "    output = Dense(1, activation='sigmoid',kernel_initializer=initializers.RandomNormal(stddev=0.01))(x)\n",
    "    \n",
    "    model = Model(inputs=list(inputs.values()), outputs=[output])\n",
    "    \n",
    "    model.compile(loss='binary_crossentropy', optimizer=Adam(learning_rate=1e-2))\n",
    "   \n",
    "    return model"
   ]
  },
  {
   "cell_type": "code",
   "execution_count": null,
   "metadata": {
    "id": "Z4Aq21VjoB72"
   },
   "outputs": [],
   "source": [
    "build_embedded_model_4_layer = build_embedded_model_4_layer('')"
   ]
  },
  {
   "cell_type": "code",
   "execution_count": null,
   "metadata": {
    "id": "eA-t5m1WoB72",
    "outputId": "d602d5c0-66ac-4baf-ba34-158c46d21604"
   },
   "outputs": [
    {
     "name": "stdout",
     "output_type": "stream",
     "text": [
      "Epoch 1/9\n",
      "5468/5468 [==============================] - 50s 8ms/step - loss: 0.3969 - val_loss: 0.3936\n",
      "Epoch 2/9\n",
      "5468/5468 [==============================] - 46s 8ms/step - loss: 0.3928 - val_loss: 0.3923\n",
      "Epoch 3/9\n",
      "5468/5468 [==============================] - 46s 8ms/step - loss: 0.3917 - val_loss: 0.3917\n",
      "Epoch 4/9\n",
      "5468/5468 [==============================] - 45s 8ms/step - loss: 0.3911 - val_loss: 0.3917\n",
      "Epoch 5/9\n",
      "5468/5468 [==============================] - 46s 8ms/step - loss: 0.3906 - val_loss: 0.3912\n",
      "Epoch 6/9\n",
      "5468/5468 [==============================] - 45s 8ms/step - loss: 0.3903 - val_loss: 0.3913\n",
      "Epoch 7/9\n",
      "5468/5468 [==============================] - 46s 8ms/step - loss: 0.3901 - val_loss: 0.3914\n",
      "Epoch 8/9\n",
      "5468/5468 [==============================] - 46s 8ms/step - loss: 0.3898 - val_loss: 0.3912\n",
      "Epoch 9/9\n",
      "5468/5468 [==============================] - 45s 8ms/step - loss: 0.3896 - val_loss: 0.3912\n"
     ]
    },
    {
     "data": {
      "text/plain": [
       "<keras.callbacks.History at 0x214f45746a0>"
      ]
     },
     "execution_count": 83,
     "metadata": {},
     "output_type": "execute_result"
    }
   ],
   "source": [
    "# 64+32+32+32 ON FULL\n",
    "build_embedded_model_4_layer.fit(X_list, y_train, epochs=9, batch_size=4096, validation_data=(X_test_list, y_test), \n",
    "                                 shuffle=False, verbose=1)"
   ]
  },
  {
   "cell_type": "code",
   "execution_count": null,
   "metadata": {
    "id": "AhhGS6b0oB72"
   },
   "outputs": [],
   "source": [
    "# wide layer perform the best.\n",
    "# too many layer is time consuming and is prune to overfit\n",
    "# use 2 layer 512+512 as the final model"
   ]
  },
  {
   "cell_type": "code",
   "execution_count": null,
   "metadata": {
    "id": "WF4Dg6_aoB72"
   },
   "outputs": [],
   "source": [
    "# we in fact conducted more test, however, these test data are on each teammate's computer\n",
    "# so just include part of them here"
   ]
  },
  {
   "cell_type": "markdown",
   "metadata": {},
   "source": [
    "## 3. Prediction"
   ]
  },
  {
   "cell_type": "code",
   "execution_count": null,
   "metadata": {},
   "outputs": [],
   "source": [
    "# categorical inputs\n",
    "inputs = {}\n",
    "for x in range(0, X_cleaned.shape[1]-3):\n",
    "    inputs[\"input_{0}\".format(x)] = Input(shape=(1,))\n",
    "\n",
    "inputs_embedded = {}\n",
    "for x in range(0, X_cleaned.shape[1]-3):\n",
    "    inputs_embedded[\"inputs_embedded_{0}\".format(x)] = Embedding(input_dim=max(X_cleaned.iloc[:,x])+1,\n",
    "                                                                 output_dim=math.ceil(math.sqrt(len(X_cleaned.iloc[:,x].value_counts()))))\\\n",
    "                                                      (inputs[\"input_{0}\".format(x)])\n",
    "\n",
    "    inputs_embedded[\"inputs_embedded_{0}\".format(x)] = Flatten()(inputs_embedded[\"inputs_embedded_{0}\".format(x)])\n",
    "\n",
    "# numerical inputs\n",
    "numeric_inputs = Input(shape=(3,))\n",
    "\n",
    "input_list = list(inputs_embedded.values())\n",
    "input_list.append(numeric_inputs)\n",
    "\n",
    "merged_layer = concatenate(input_list)"
   ]
  },
  {
   "cell_type": "code",
   "execution_count": null,
   "metadata": {},
   "outputs": [],
   "source": [
    "def build_embedded_model_2_layer(hp):\n",
    "\n",
    "    x = Dense(units = 512, activation='relu',)(merged_layer)\n",
    "    x = Dense(units = 512, activation='relu')(x)\n",
    "    \n",
    "    output = Dense(1, activation='sigmoid')(x)\n",
    "    \n",
    "    input_list_2 = list(inputs.values())\n",
    "    input_list_2.append(numeric_inputs)\n",
    "    \n",
    "    model = Model(inputs=input_list_2, outputs=[output])\n",
    "    model.compile(loss='binary_crossentropy', optimizer=Adam(learning_rate=1e-3))\n",
    "   \n",
    "    return model"
   ]
  },
  {
   "cell_type": "code",
   "execution_count": null,
   "metadata": {},
   "outputs": [],
   "source": [
    "embedded_model_2_layer = build_embedded_model_2_layer('')"
   ]
  },
  {
   "cell_type": "code",
   "execution_count": null,
   "metadata": {},
   "outputs": [],
   "source": [
    "embedded_model_2_layer.fit(X_train_list, y_train, epochs=15, batch_size=2048, validation_split=0.3, \n",
    "                                 shuffle=True, verbose=1,callbacks=EarlyStopping(monitor='val_loss',patience=1))"
   ]
  },
  {
   "cell_type": "code",
   "execution_count": null,
   "metadata": {},
   "outputs": [],
   "source": [
    "# get test data and process as we did for the training data"
   ]
  },
  {
   "cell_type": "code",
   "execution_count": null,
   "metadata": {},
   "outputs": [],
   "source": [
    "data = pd.read_csv(r'C:/Users/zhua273/Desktop/Project Data/ProjectTestData.csv')"
   ]
  },
  {
   "cell_type": "code",
   "execution_count": null,
   "metadata": {},
   "outputs": [],
   "source": [
    "data = data.drop(['id'],axis=1)\n",
    "data['hh'] = data['hour'].mod(100)\n",
    "data['dd'] = (data['hour']-data['hh']-14100000)/100\n",
    "weekday_mapping = {21: 1, 22: 2, 23: 3, 24: 4, 25:5, 26:6, 27:7, 28:1, 29:2, 30:3, 31:4}\n",
    "data['weekday'] = data['dd'].map(weekday_mapping)\n",
    "data = data.drop(['hour'],axis=1)"
   ]
  },
  {
   "cell_type": "code",
   "execution_count": null,
   "metadata": {},
   "outputs": [],
   "source": [
    "for x in range(0, data.shape[1]-3): # keep hour, day and weekday as numerical variables\n",
    "    data.iloc[:,x] = data.iloc[:,x].map(mappings[\"mappings_{0}\".format(x)]).fillna(0)"
   ]
  },
  {
   "cell_type": "code",
   "execution_count": null,
   "metadata": {},
   "outputs": [],
   "source": [
    "data = clean_data(data, 0.01)"
   ]
  },
  {
   "cell_type": "code",
   "execution_count": null,
   "metadata": {},
   "outputs": [],
   "source": [
    "test_list = get_X_list(data)"
   ]
  },
  {
   "cell_type": "code",
   "execution_count": null,
   "metadata": {},
   "outputs": [],
   "source": [
    "for x in range(0,data.shape[1]-3):\n",
    "    data.iloc[:,x] = np.where(data.iloc[:,x] >= max(X_cleaned.iloc[:,x]), 0, data.iloc[:,x])"
   ]
  },
  {
   "cell_type": "code",
   "execution_count": null,
   "metadata": {},
   "outputs": [],
   "source": [
    "pred = embedded_model_2_layer.predict(test_list)"
   ]
  },
  {
   "cell_type": "code",
   "execution_count": null,
   "metadata": {},
   "outputs": [],
   "source": [
    "data['Prediction'] = pred"
   ]
  },
  {
   "cell_type": "code",
   "execution_count": null,
   "metadata": {},
   "outputs": [],
   "source": [
    "data.to_csv(\"C:/Users/zhua273/Desktop/Project Data/pred.csv\",index=False)"
   ]
  }
 ],
 "metadata": {
  "colab": {
   "name": "LATEST VERSION (1).ipynb",
   "provenance": []
  },
  "kernelspec": {
   "display_name": "Python 3 (ipykernel)",
   "language": "python",
   "name": "python3"
  },
  "language_info": {
   "codemirror_mode": {
    "name": "ipython",
    "version": 3
   },
   "file_extension": ".py",
   "mimetype": "text/x-python",
   "name": "python",
   "nbconvert_exporter": "python",
   "pygments_lexer": "ipython3",
   "version": "3.8.12"
  },
  "toc": {
   "base_numbering": 1,
   "nav_menu": {},
   "number_sections": true,
   "sideBar": true,
   "skip_h1_title": false,
   "title_cell": "Table of Contents",
   "title_sidebar": "Contents",
   "toc_cell": false,
   "toc_position": {},
   "toc_section_display": true,
   "toc_window_display": false
  },
  "varInspector": {
   "cols": {
    "lenName": 16,
    "lenType": 16,
    "lenVar": 40
   },
   "kernels_config": {
    "python": {
     "delete_cmd_postfix": "",
     "delete_cmd_prefix": "del ",
     "library": "var_list.py",
     "varRefreshCmd": "print(var_dic_list())"
    },
    "r": {
     "delete_cmd_postfix": ") ",
     "delete_cmd_prefix": "rm(",
     "library": "var_list.r",
     "varRefreshCmd": "cat(var_dic_list()) "
    }
   },
   "types_to_exclude": [
    "module",
    "function",
    "builtin_function_or_method",
    "instance",
    "_Feature"
   ],
   "window_display": false
  }
 },
 "nbformat": 4,
 "nbformat_minor": 1
}
